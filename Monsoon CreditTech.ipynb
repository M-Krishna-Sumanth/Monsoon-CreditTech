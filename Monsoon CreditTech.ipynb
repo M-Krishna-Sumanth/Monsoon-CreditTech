{
 "cells": [
  {
   "cell_type": "markdown",
   "id": "92fcc316",
   "metadata": {},
   "source": [
    "# 1 Problem Statement\n",
    "\n",
    "Given the data collected at the time of application, we need to predict the loan outcome."
   ]
  },
  {
   "cell_type": "markdown",
   "id": "49d74fba",
   "metadata": {},
   "source": [
    "# 2 Dataset Description\n",
    "Both train and test sets contain three files - accounts_data_train.json, enquiry_data_train.json, train_flag.csv."
   ]
  },
  {
   "cell_type": "markdown",
   "id": "dfa70c4c",
   "metadata": {},
   "source": [
    "# 3 Data Preprocessing"
   ]
  },
  {
   "cell_type": "code",
   "execution_count": 1,
   "id": "6cec2024",
   "metadata": {},
   "outputs": [],
   "source": [
    "import os\n",
    "import numpy as np\n",
    "import pandas as pd\n",
    "import matplotlib.pyplot as plt\n",
    "import seaborn as sns\n",
    "import sklearn\n",
    "\n",
    "from datetime import datetime\n",
    "from sklearn.preprocessing import StandardScaler\n",
    "from sklearn.neighbors import KNeighborsClassifier\n",
    "from sklearn.linear_model import SGDClassifier, LogisticRegression\n",
    "from sklearn.ensemble import RandomForestClassifier, VotingClassifier\n",
    "from mlxtend.classifier import StackingClassifier\n",
    "from xgboost import XGBClassifier\n",
    "from sklearn.calibration import CalibratedClassifierCV\n",
    "from sklearn.metrics import confusion_matrix, ConfusionMatrixDisplay, accuracy_score, log_loss, roc_auc_score\n",
    "\n",
    "sns.set_style('whitegrid')\n",
    "os.chdir('E:/new_download/senior_ds_test/data')"
   ]
  },
  {
   "cell_type": "markdown",
   "id": "a682b15b",
   "metadata": {},
   "source": [
    "## 3.1 Converting the provided files to proper json format\n",
    "with open('train/accounts_data_train.json') as file:\n",
    "    txt = file.read()\n",
    "txt = txt[3:-3].replace('\"','').replace('[','').replace(']','')\n",
    "records = txt.split('}, {')\n",
    "dct = {'credit_type':[],'loan_amount':[],'amount_overdue':[],'open_date':[],'closed_date':[],'payment_hist_string':[],'uid':[]}\n",
    "for record in records:\n",
    "    lst = record.split(', ')\n",
    "    for elem in lst:\n",
    "        key, value = elem.split(': ')\n",
    "        if key=='loan_amount':value=float(value)\n",
    "        elif key=='amount_overdue':value=float(value)\n",
    "        #elif key=='open_date':value=datetime.strptime(value,'%Y-%m-%d')\n",
    "        elif key=='closed_date':\n",
    "            if value=='NaN':value=np.nan\n",
    "            #else:value=datetime.strptime(value,'%Y-%m-%d')\n",
    "        dct[key].append(value)\n",
    "accounts_data = pd.DataFrame(dct)\n",
    "accounts_data.to_json('new_train/accounts_data_train.json',orient=\"records\")\n",
    "\n",
    "with open('train/enquiry_data_train.json') as file:\n",
    "    txt = file.read()\n",
    "txt = txt[3:-3].replace('\"','').replace('[','').replace(']','')\n",
    "records = txt.split('}, {')\n",
    "dct = {'enquiry_type':[],'enquiry_amt':[],'enquiry_date':[],'uid':[]}\n",
    "for record in records:\n",
    "    lst = record.split(', ')\n",
    "    for elem in lst:\n",
    "        key, value = elem.split(': ')\n",
    "        if key=='enquiry_amt':value=float(value)\n",
    "        #elif key=='enquiry_date':value=datetime.strptime(value,'%Y-%m-%d')\n",
    "        dct[key].append(value)\n",
    "enquiry_data = pd.DataFrame(dct)\n",
    "enquiry_data.to_json('new_train/enquiry_data_train.json',orient=\"records\")"
   ]
  },
  {
   "cell_type": "markdown",
   "id": "5116ea40",
   "metadata": {},
   "source": [
    "with open('test/accounts_data_test.json') as file:\n",
    "    txt = file.read()\n",
    "txt = txt[3:-3].replace('\"','').replace('[','').replace(']','')\n",
    "records = txt.split('}, {')\n",
    "dct = {'credit_type':[],'loan_amount':[],'amount_overdue':[],'open_date':[],'closed_date':[],'payment_hist_string':[],'uid':[]}\n",
    "for record in records:\n",
    "    lst = record.split(', ')\n",
    "    for elem in lst:\n",
    "        key, value = elem.split(': ')\n",
    "        if key=='loan_amount':value=float(value)\n",
    "        elif key=='amount_overdue':value=float(value)\n",
    "        #elif key=='open_date':value=datetime.strptime(value,'%Y-%m-%d')\n",
    "        elif key=='closed_date':\n",
    "            if value=='NaN':value=np.nan\n",
    "            #else:value=datetime.strptime(value,'%Y-%m-%d')\n",
    "        dct[key].append(value)\n",
    "accounts_data = pd.DataFrame(dct)\n",
    "accounts_data.to_json('new_test/accounts_data_test.json',orient=\"records\")\n",
    "\n",
    "with open('test/enquiry_data_test.json') as file:\n",
    "    txt = file.read()\n",
    "txt = txt[3:-3].replace('\"','').replace('[','').replace(']','')\n",
    "records = txt.split('}, {')\n",
    "dct = {'enquiry_type':[],'enquiry_amt':[],'enquiry_date':[],'uid':[]}\n",
    "for record in records:\n",
    "    lst = record.split(', ')\n",
    "    for elem in lst:\n",
    "        key, value = elem.split(': ')\n",
    "        if key=='enquiry_amt':value=float(value)\n",
    "        #elif key=='enquiry_date':value=datetime.strptime(value,'%Y-%m-%d')\n",
    "        dct[key].append(value)\n",
    "enquiry_data = pd.DataFrame(dct)\n",
    "enquiry_data.to_json('new_test/enquiry_data_test.json',orient=\"records\")"
   ]
  },
  {
   "cell_type": "markdown",
   "id": "db8ef26d",
   "metadata": {},
   "source": [
    "## 3.2 Loading the data"
   ]
  },
  {
   "cell_type": "code",
   "execution_count": 2,
   "id": "ccebae64",
   "metadata": {},
   "outputs": [],
   "source": [
    "# if there is time component in the data, it is better to sort by time and do time based split\n",
    "# so that we can see if our model is working better on the future data\n",
    "accounts_data_train = pd.read_json('new_train/accounts_data_train.json').sort_values('open_date')\n",
    "enquiry_data_train = pd.read_json('new_train/enquiry_data_train.json').sort_values('enquiry_date')\n",
    "train_flag = pd.read_csv('new_train/train_flag.csv')\n",
    "accounts_data_train['open_date'] = pd.to_datetime(accounts_data_train['open_date'])\n",
    "accounts_data_train['closed_date'] = pd.to_datetime(accounts_data_train['closed_date'])\n",
    "enquiry_data_train['enquiry_date'] = pd.to_datetime(enquiry_data_train['enquiry_date'])"
   ]
  },
  {
   "cell_type": "code",
   "execution_count": 3,
   "id": "e5044657",
   "metadata": {},
   "outputs": [
    {
     "name": "stdout",
     "output_type": "stream",
     "text": [
      "(1245310, 7)\n",
      "(1909926, 4)\n",
      "(261383, 3)\n"
     ]
    }
   ],
   "source": [
    "print(accounts_data_train.shape)\n",
    "print(enquiry_data_train.shape)\n",
    "print(train_flag.shape)"
   ]
  },
  {
   "cell_type": "code",
   "execution_count": 4,
   "id": "da690bc3",
   "metadata": {},
   "outputs": [
    {
     "data": {
      "text/html": [
       "<div>\n",
       "<style scoped>\n",
       "    .dataframe tbody tr th:only-of-type {\n",
       "        vertical-align: middle;\n",
       "    }\n",
       "\n",
       "    .dataframe tbody tr th {\n",
       "        vertical-align: top;\n",
       "    }\n",
       "\n",
       "    .dataframe thead th {\n",
       "        text-align: right;\n",
       "    }\n",
       "</style>\n",
       "<table border=\"1\" class=\"dataframe\">\n",
       "  <thead>\n",
       "    <tr style=\"text-align: right;\">\n",
       "      <th></th>\n",
       "      <th>credit_type</th>\n",
       "      <th>loan_amount</th>\n",
       "      <th>amount_overdue</th>\n",
       "      <th>open_date</th>\n",
       "      <th>closed_date</th>\n",
       "      <th>payment_hist_string</th>\n",
       "      <th>uid</th>\n",
       "    </tr>\n",
       "  </thead>\n",
       "  <tbody>\n",
       "    <tr>\n",
       "      <th>968935</th>\n",
       "      <td>Consumer credit</td>\n",
       "      <td>92290.5</td>\n",
       "      <td>0.0</td>\n",
       "      <td>2013-01-01</td>\n",
       "      <td>2013-11-04</td>\n",
       "      <td>000000000000000000000000000000</td>\n",
       "      <td>UFS67084307</td>\n",
       "    </tr>\n",
       "    <tr>\n",
       "      <th>698933</th>\n",
       "      <td>Consumer credit</td>\n",
       "      <td>29754.0</td>\n",
       "      <td>0.0</td>\n",
       "      <td>2013-01-01</td>\n",
       "      <td>NaT</td>\n",
       "      <td>0000000000000000000000000000000000000000000000...</td>\n",
       "      <td>OPI95979147</td>\n",
       "    </tr>\n",
       "    <tr>\n",
       "      <th>698905</th>\n",
       "      <td>Credit card</td>\n",
       "      <td>225000.0</td>\n",
       "      <td>0.0</td>\n",
       "      <td>2013-01-01</td>\n",
       "      <td>NaT</td>\n",
       "      <td>0000000000000000000000000000000000000000000000...</td>\n",
       "      <td>OPI73402522</td>\n",
       "    </tr>\n",
       "    <tr>\n",
       "      <th>593284</th>\n",
       "      <td>Consumer credit</td>\n",
       "      <td>135000.0</td>\n",
       "      <td>0.0</td>\n",
       "      <td>2013-01-01</td>\n",
       "      <td>NaT</td>\n",
       "      <td>0000000000000000000000000000000000000000000000...</td>\n",
       "      <td>MKN48457364</td>\n",
       "    </tr>\n",
       "    <tr>\n",
       "      <th>284830</th>\n",
       "      <td>Consumer credit</td>\n",
       "      <td>100912.5</td>\n",
       "      <td>0.0</td>\n",
       "      <td>2013-01-01</td>\n",
       "      <td>2014-08-27</td>\n",
       "      <td>0000000000000000000000000000000000000000000000...</td>\n",
       "      <td>FXO29490350</td>\n",
       "    </tr>\n",
       "  </tbody>\n",
       "</table>\n",
       "</div>"
      ],
      "text/plain": [
       "            credit_type  loan_amount  amount_overdue  open_date closed_date  \\\n",
       "968935  Consumer credit      92290.5             0.0 2013-01-01  2013-11-04   \n",
       "698933  Consumer credit      29754.0             0.0 2013-01-01         NaT   \n",
       "698905      Credit card     225000.0             0.0 2013-01-01         NaT   \n",
       "593284  Consumer credit     135000.0             0.0 2013-01-01         NaT   \n",
       "284830  Consumer credit     100912.5             0.0 2013-01-01  2014-08-27   \n",
       "\n",
       "                                      payment_hist_string          uid  \n",
       "968935                     000000000000000000000000000000  UFS67084307  \n",
       "698933  0000000000000000000000000000000000000000000000...  OPI95979147  \n",
       "698905  0000000000000000000000000000000000000000000000...  OPI73402522  \n",
       "593284  0000000000000000000000000000000000000000000000...  MKN48457364  \n",
       "284830  0000000000000000000000000000000000000000000000...  FXO29490350  "
      ]
     },
     "execution_count": 4,
     "metadata": {},
     "output_type": "execute_result"
    }
   ],
   "source": [
    "accounts_data_train.head()"
   ]
  },
  {
   "cell_type": "markdown",
   "id": "fb6232a4",
   "metadata": {},
   "source": [
    "<b>Observation:-</b>The dates could be upto 01/01/2021."
   ]
  },
  {
   "cell_type": "code",
   "execution_count": 5,
   "id": "998c2a6b",
   "metadata": {},
   "outputs": [
    {
     "data": {
      "text/html": [
       "<div>\n",
       "<style scoped>\n",
       "    .dataframe tbody tr th:only-of-type {\n",
       "        vertical-align: middle;\n",
       "    }\n",
       "\n",
       "    .dataframe tbody tr th {\n",
       "        vertical-align: top;\n",
       "    }\n",
       "\n",
       "    .dataframe thead th {\n",
       "        text-align: right;\n",
       "    }\n",
       "</style>\n",
       "<table border=\"1\" class=\"dataframe\">\n",
       "  <thead>\n",
       "    <tr style=\"text-align: right;\">\n",
       "      <th></th>\n",
       "      <th>loan_amount</th>\n",
       "      <th>amount_overdue</th>\n",
       "      <th>open_date</th>\n",
       "      <th>closed_date</th>\n",
       "    </tr>\n",
       "  </thead>\n",
       "  <tbody>\n",
       "    <tr>\n",
       "      <th>count</th>\n",
       "      <td>1.245307e+06</td>\n",
       "      <td>1.245310e+06</td>\n",
       "      <td>1245310</td>\n",
       "      <td>782275</td>\n",
       "    </tr>\n",
       "    <tr>\n",
       "      <th>mean</th>\n",
       "      <td>3.523541e+05</td>\n",
       "      <td>4.202288e+01</td>\n",
       "      <td>2017-11-15 01:15:58.772353792</td>\n",
       "      <td>2018-03-16 01:09:08.171933952</td>\n",
       "    </tr>\n",
       "    <tr>\n",
       "      <th>min</th>\n",
       "      <td>0.000000e+00</td>\n",
       "      <td>0.000000e+00</td>\n",
       "      <td>2013-01-01 00:00:00</td>\n",
       "      <td>1905-12-13 00:00:00</td>\n",
       "    </tr>\n",
       "    <tr>\n",
       "      <th>25%</th>\n",
       "      <td>5.114700e+04</td>\n",
       "      <td>0.000000e+00</td>\n",
       "      <td>2016-06-07 00:00:00</td>\n",
       "      <td>2016-11-22 00:00:00</td>\n",
       "    </tr>\n",
       "    <tr>\n",
       "      <th>50%</th>\n",
       "      <td>1.246590e+05</td>\n",
       "      <td>0.000000e+00</td>\n",
       "      <td>2018-04-23 00:00:00</td>\n",
       "      <td>2018-07-17 00:00:00</td>\n",
       "    </tr>\n",
       "    <tr>\n",
       "      <th>75%</th>\n",
       "      <td>3.087000e+05</td>\n",
       "      <td>0.000000e+00</td>\n",
       "      <td>2019-09-19 00:00:00</td>\n",
       "      <td>2019-11-01 00:00:00</td>\n",
       "    </tr>\n",
       "    <tr>\n",
       "      <th>max</th>\n",
       "      <td>3.960000e+08</td>\n",
       "      <td>3.756681e+06</td>\n",
       "      <td>2021-01-01 00:00:00</td>\n",
       "      <td>2021-01-01 00:00:00</td>\n",
       "    </tr>\n",
       "    <tr>\n",
       "      <th>std</th>\n",
       "      <td>1.109812e+06</td>\n",
       "      <td>6.668687e+03</td>\n",
       "      <td>NaN</td>\n",
       "      <td>NaN</td>\n",
       "    </tr>\n",
       "  </tbody>\n",
       "</table>\n",
       "</div>"
      ],
      "text/plain": [
       "        loan_amount  amount_overdue                      open_date  \\\n",
       "count  1.245307e+06    1.245310e+06                        1245310   \n",
       "mean   3.523541e+05    4.202288e+01  2017-11-15 01:15:58.772353792   \n",
       "min    0.000000e+00    0.000000e+00            2013-01-01 00:00:00   \n",
       "25%    5.114700e+04    0.000000e+00            2016-06-07 00:00:00   \n",
       "50%    1.246590e+05    0.000000e+00            2018-04-23 00:00:00   \n",
       "75%    3.087000e+05    0.000000e+00            2019-09-19 00:00:00   \n",
       "max    3.960000e+08    3.756681e+06            2021-01-01 00:00:00   \n",
       "std    1.109812e+06    6.668687e+03                            NaN   \n",
       "\n",
       "                         closed_date  \n",
       "count                         782275  \n",
       "mean   2018-03-16 01:09:08.171933952  \n",
       "min              1905-12-13 00:00:00  \n",
       "25%              2016-11-22 00:00:00  \n",
       "50%              2018-07-17 00:00:00  \n",
       "75%              2019-11-01 00:00:00  \n",
       "max              2021-01-01 00:00:00  \n",
       "std                              NaN  "
      ]
     },
     "execution_count": 5,
     "metadata": {},
     "output_type": "execute_result"
    }
   ],
   "source": [
    "accounts_data_train.describe()"
   ]
  },
  {
   "cell_type": "code",
   "execution_count": 6,
   "id": "e5a2c3ec",
   "metadata": {},
   "outputs": [
    {
     "data": {
      "text/plain": [
       "credit_type                15\n",
       "loan_amount            189286\n",
       "amount_overdue           1266\n",
       "open_date                2923\n",
       "closed_date              2913\n",
       "payment_hist_string     45212\n",
       "uid                    223918\n",
       "dtype: int64"
      ]
     },
     "execution_count": 6,
     "metadata": {},
     "output_type": "execute_result"
    }
   ],
   "source": [
    "accounts_data_train.nunique(axis=0)"
   ]
  },
  {
   "cell_type": "code",
   "execution_count": 7,
   "id": "cc9264e6",
   "metadata": {},
   "outputs": [
    {
     "data": {
      "text/html": [
       "<div>\n",
       "<style scoped>\n",
       "    .dataframe tbody tr th:only-of-type {\n",
       "        vertical-align: middle;\n",
       "    }\n",
       "\n",
       "    .dataframe tbody tr th {\n",
       "        vertical-align: top;\n",
       "    }\n",
       "\n",
       "    .dataframe thead th {\n",
       "        text-align: right;\n",
       "    }\n",
       "</style>\n",
       "<table border=\"1\" class=\"dataframe\">\n",
       "  <thead>\n",
       "    <tr style=\"text-align: right;\">\n",
       "      <th></th>\n",
       "      <th>enquiry_type</th>\n",
       "      <th>enquiry_amt</th>\n",
       "      <th>enquiry_date</th>\n",
       "      <th>uid</th>\n",
       "    </tr>\n",
       "  </thead>\n",
       "  <tbody>\n",
       "    <tr>\n",
       "      <th>687427</th>\n",
       "      <td>Cash loans</td>\n",
       "      <td>84000</td>\n",
       "      <td>2015-08-30</td>\n",
       "      <td>JIG70884799</td>\n",
       "    </tr>\n",
       "    <tr>\n",
       "      <th>489972</th>\n",
       "      <td>Cash loans</td>\n",
       "      <td>89000</td>\n",
       "      <td>2015-10-12</td>\n",
       "      <td>GQW83282743</td>\n",
       "    </tr>\n",
       "    <tr>\n",
       "      <th>378886</th>\n",
       "      <td>Another type of loan</td>\n",
       "      <td>108000</td>\n",
       "      <td>2015-10-19</td>\n",
       "      <td>FED76246588</td>\n",
       "    </tr>\n",
       "    <tr>\n",
       "      <th>1860153</th>\n",
       "      <td>Loan for the purchase of equipment</td>\n",
       "      <td>99000</td>\n",
       "      <td>2015-11-02</td>\n",
       "      <td>ZIQ19887348</td>\n",
       "    </tr>\n",
       "    <tr>\n",
       "      <th>112195</th>\n",
       "      <td>Cash loans</td>\n",
       "      <td>194000</td>\n",
       "      <td>2015-11-08</td>\n",
       "      <td>BOH75325942</td>\n",
       "    </tr>\n",
       "  </tbody>\n",
       "</table>\n",
       "</div>"
      ],
      "text/plain": [
       "                               enquiry_type  enquiry_amt enquiry_date  \\\n",
       "687427                           Cash loans        84000   2015-08-30   \n",
       "489972                           Cash loans        89000   2015-10-12   \n",
       "378886                 Another type of loan       108000   2015-10-19   \n",
       "1860153  Loan for the purchase of equipment        99000   2015-11-02   \n",
       "112195                           Cash loans       194000   2015-11-08   \n",
       "\n",
       "                 uid  \n",
       "687427   JIG70884799  \n",
       "489972   GQW83282743  \n",
       "378886   FED76246588  \n",
       "1860153  ZIQ19887348  \n",
       "112195   BOH75325942  "
      ]
     },
     "execution_count": 7,
     "metadata": {},
     "output_type": "execute_result"
    }
   ],
   "source": [
    "enquiry_data_train.head()"
   ]
  },
  {
   "cell_type": "code",
   "execution_count": 8,
   "id": "897066ce",
   "metadata": {},
   "outputs": [
    {
     "data": {
      "text/html": [
       "<div>\n",
       "<style scoped>\n",
       "    .dataframe tbody tr th:only-of-type {\n",
       "        vertical-align: middle;\n",
       "    }\n",
       "\n",
       "    .dataframe tbody tr th {\n",
       "        vertical-align: top;\n",
       "    }\n",
       "\n",
       "    .dataframe thead th {\n",
       "        text-align: right;\n",
       "    }\n",
       "</style>\n",
       "<table border=\"1\" class=\"dataframe\">\n",
       "  <thead>\n",
       "    <tr style=\"text-align: right;\">\n",
       "      <th></th>\n",
       "      <th>enquiry_amt</th>\n",
       "      <th>enquiry_date</th>\n",
       "    </tr>\n",
       "  </thead>\n",
       "  <tbody>\n",
       "    <tr>\n",
       "      <th>count</th>\n",
       "      <td>1.909926e+06</td>\n",
       "      <td>1909926</td>\n",
       "    </tr>\n",
       "    <tr>\n",
       "      <th>mean</th>\n",
       "      <td>1.160423e+05</td>\n",
       "      <td>2020-03-03 02:34:49.536035072</td>\n",
       "    </tr>\n",
       "    <tr>\n",
       "      <th>min</th>\n",
       "      <td>1.007000e+03</td>\n",
       "      <td>2015-08-30 00:00:00</td>\n",
       "    </tr>\n",
       "    <tr>\n",
       "      <th>25%</th>\n",
       "      <td>5.600000e+04</td>\n",
       "      <td>2019-10-20 00:00:00</td>\n",
       "    </tr>\n",
       "    <tr>\n",
       "      <th>50%</th>\n",
       "      <td>1.080000e+05</td>\n",
       "      <td>2020-05-14 00:00:00</td>\n",
       "    </tr>\n",
       "    <tr>\n",
       "      <th>75%</th>\n",
       "      <td>1.590000e+05</td>\n",
       "      <td>2020-09-24 00:00:00</td>\n",
       "    </tr>\n",
       "    <tr>\n",
       "      <th>max</th>\n",
       "      <td>4.999950e+05</td>\n",
       "      <td>2021-01-01 00:00:00</td>\n",
       "    </tr>\n",
       "    <tr>\n",
       "      <th>std</th>\n",
       "      <td>8.207031e+04</td>\n",
       "      <td>NaN</td>\n",
       "    </tr>\n",
       "  </tbody>\n",
       "</table>\n",
       "</div>"
      ],
      "text/plain": [
       "        enquiry_amt                   enquiry_date\n",
       "count  1.909926e+06                        1909926\n",
       "mean   1.160423e+05  2020-03-03 02:34:49.536035072\n",
       "min    1.007000e+03            2015-08-30 00:00:00\n",
       "25%    5.600000e+04            2019-10-20 00:00:00\n",
       "50%    1.080000e+05            2020-05-14 00:00:00\n",
       "75%    1.590000e+05            2020-09-24 00:00:00\n",
       "max    4.999950e+05            2021-01-01 00:00:00\n",
       "std    8.207031e+04                            NaN"
      ]
     },
     "execution_count": 8,
     "metadata": {},
     "output_type": "execute_result"
    }
   ],
   "source": [
    "enquiry_data_train.describe()"
   ]
  },
  {
   "cell_type": "code",
   "execution_count": 9,
   "id": "d279441b",
   "metadata": {},
   "outputs": [
    {
     "data": {
      "text/plain": [
       "enquiry_type        17\n",
       "enquiry_amt     151941\n",
       "enquiry_date      1776\n",
       "uid             261383\n",
       "dtype: int64"
      ]
     },
     "execution_count": 9,
     "metadata": {},
     "output_type": "execute_result"
    }
   ],
   "source": [
    "enquiry_data_train.nunique(axis=0)"
   ]
  },
  {
   "cell_type": "code",
   "execution_count": 10,
   "id": "c45252dc",
   "metadata": {},
   "outputs": [
    {
     "data": {
      "text/html": [
       "<div>\n",
       "<style scoped>\n",
       "    .dataframe tbody tr th:only-of-type {\n",
       "        vertical-align: middle;\n",
       "    }\n",
       "\n",
       "    .dataframe tbody tr th {\n",
       "        vertical-align: top;\n",
       "    }\n",
       "\n",
       "    .dataframe thead th {\n",
       "        text-align: right;\n",
       "    }\n",
       "</style>\n",
       "<table border=\"1\" class=\"dataframe\">\n",
       "  <thead>\n",
       "    <tr style=\"text-align: right;\">\n",
       "      <th></th>\n",
       "      <th>uid</th>\n",
       "      <th>NAME_CONTRACT_TYPE</th>\n",
       "      <th>TARGET</th>\n",
       "    </tr>\n",
       "  </thead>\n",
       "  <tbody>\n",
       "    <tr>\n",
       "      <th>0</th>\n",
       "      <td>XDA69787158</td>\n",
       "      <td>Cash loans</td>\n",
       "      <td>0</td>\n",
       "    </tr>\n",
       "    <tr>\n",
       "      <th>1</th>\n",
       "      <td>BSE47789733</td>\n",
       "      <td>Cash loans</td>\n",
       "      <td>0</td>\n",
       "    </tr>\n",
       "    <tr>\n",
       "      <th>2</th>\n",
       "      <td>NTJ92213825</td>\n",
       "      <td>Cash loans</td>\n",
       "      <td>0</td>\n",
       "    </tr>\n",
       "    <tr>\n",
       "      <th>3</th>\n",
       "      <td>TCQ47571695</td>\n",
       "      <td>Cash loans</td>\n",
       "      <td>0</td>\n",
       "    </tr>\n",
       "    <tr>\n",
       "      <th>4</th>\n",
       "      <td>WJZ68772744</td>\n",
       "      <td>Cash loans</td>\n",
       "      <td>0</td>\n",
       "    </tr>\n",
       "  </tbody>\n",
       "</table>\n",
       "</div>"
      ],
      "text/plain": [
       "           uid NAME_CONTRACT_TYPE  TARGET\n",
       "0  XDA69787158         Cash loans       0\n",
       "1  BSE47789733         Cash loans       0\n",
       "2  NTJ92213825         Cash loans       0\n",
       "3  TCQ47571695         Cash loans       0\n",
       "4  WJZ68772744         Cash loans       0"
      ]
     },
     "execution_count": 10,
     "metadata": {},
     "output_type": "execute_result"
    }
   ],
   "source": [
    "train_flag.head()"
   ]
  },
  {
   "cell_type": "code",
   "execution_count": 11,
   "id": "646dea30",
   "metadata": {},
   "outputs": [
    {
     "data": {
      "text/html": [
       "<div>\n",
       "<style scoped>\n",
       "    .dataframe tbody tr th:only-of-type {\n",
       "        vertical-align: middle;\n",
       "    }\n",
       "\n",
       "    .dataframe tbody tr th {\n",
       "        vertical-align: top;\n",
       "    }\n",
       "\n",
       "    .dataframe thead th {\n",
       "        text-align: right;\n",
       "    }\n",
       "</style>\n",
       "<table border=\"1\" class=\"dataframe\">\n",
       "  <thead>\n",
       "    <tr style=\"text-align: right;\">\n",
       "      <th></th>\n",
       "      <th>TARGET</th>\n",
       "    </tr>\n",
       "  </thead>\n",
       "  <tbody>\n",
       "    <tr>\n",
       "      <th>count</th>\n",
       "      <td>261383.000000</td>\n",
       "    </tr>\n",
       "    <tr>\n",
       "      <th>mean</th>\n",
       "      <td>0.080560</td>\n",
       "    </tr>\n",
       "    <tr>\n",
       "      <th>std</th>\n",
       "      <td>0.272159</td>\n",
       "    </tr>\n",
       "    <tr>\n",
       "      <th>min</th>\n",
       "      <td>0.000000</td>\n",
       "    </tr>\n",
       "    <tr>\n",
       "      <th>25%</th>\n",
       "      <td>0.000000</td>\n",
       "    </tr>\n",
       "    <tr>\n",
       "      <th>50%</th>\n",
       "      <td>0.000000</td>\n",
       "    </tr>\n",
       "    <tr>\n",
       "      <th>75%</th>\n",
       "      <td>0.000000</td>\n",
       "    </tr>\n",
       "    <tr>\n",
       "      <th>max</th>\n",
       "      <td>1.000000</td>\n",
       "    </tr>\n",
       "  </tbody>\n",
       "</table>\n",
       "</div>"
      ],
      "text/plain": [
       "              TARGET\n",
       "count  261383.000000\n",
       "mean        0.080560\n",
       "std         0.272159\n",
       "min         0.000000\n",
       "25%         0.000000\n",
       "50%         0.000000\n",
       "75%         0.000000\n",
       "max         1.000000"
      ]
     },
     "execution_count": 11,
     "metadata": {},
     "output_type": "execute_result"
    }
   ],
   "source": [
    "train_flag.describe()"
   ]
  },
  {
   "cell_type": "code",
   "execution_count": 12,
   "id": "e065fc8c",
   "metadata": {},
   "outputs": [
    {
     "data": {
      "text/plain": [
       "uid                   261383\n",
       "NAME_CONTRACT_TYPE         2\n",
       "TARGET                     2\n",
       "dtype: int64"
      ]
     },
     "execution_count": 12,
     "metadata": {},
     "output_type": "execute_result"
    }
   ],
   "source": [
    "train_flag.nunique(axis=0)"
   ]
  },
  {
   "cell_type": "markdown",
   "id": "389a1653",
   "metadata": {},
   "source": [
    "## 3.3 Checking for outliers and null values"
   ]
  },
  {
   "cell_type": "code",
   "execution_count": 13,
   "id": "0ed68192",
   "metadata": {},
   "outputs": [
    {
     "data": {
      "text/html": [
       "<div>\n",
       "<style scoped>\n",
       "    .dataframe tbody tr th:only-of-type {\n",
       "        vertical-align: middle;\n",
       "    }\n",
       "\n",
       "    .dataframe tbody tr th {\n",
       "        vertical-align: top;\n",
       "    }\n",
       "\n",
       "    .dataframe thead th {\n",
       "        text-align: right;\n",
       "    }\n",
       "</style>\n",
       "<table border=\"1\" class=\"dataframe\">\n",
       "  <thead>\n",
       "    <tr style=\"text-align: right;\">\n",
       "      <th></th>\n",
       "      <th>credit_type</th>\n",
       "      <th>loan_amount</th>\n",
       "      <th>amount_overdue</th>\n",
       "      <th>open_date</th>\n",
       "      <th>closed_date</th>\n",
       "      <th>payment_hist_string</th>\n",
       "      <th>uid</th>\n",
       "    </tr>\n",
       "  </thead>\n",
       "  <tbody>\n",
       "    <tr>\n",
       "      <th>752854</th>\n",
       "      <td>Credit card</td>\n",
       "      <td>225000.0</td>\n",
       "      <td>0.0</td>\n",
       "      <td>2014-08-06</td>\n",
       "      <td>1905-12-13</td>\n",
       "      <td></td>\n",
       "      <td>PSI76661644</td>\n",
       "    </tr>\n",
       "  </tbody>\n",
       "</table>\n",
       "</div>"
      ],
      "text/plain": [
       "        credit_type  loan_amount  amount_overdue  open_date closed_date  \\\n",
       "752854  Credit card     225000.0             0.0 2014-08-06  1905-12-13   \n",
       "\n",
       "       payment_hist_string          uid  \n",
       "752854                      PSI76661644  "
      ]
     },
     "execution_count": 13,
     "metadata": {},
     "output_type": "execute_result"
    }
   ],
   "source": [
    "# checking for dates that could be outliers\n",
    "accounts_data_train[accounts_data_train['closed_date']<datetime(1970,1,1)]"
   ]
  },
  {
   "cell_type": "code",
   "execution_count": 14,
   "id": "34789641",
   "metadata": {},
   "outputs": [
    {
     "data": {
      "text/html": [
       "<div>\n",
       "<style scoped>\n",
       "    .dataframe tbody tr th:only-of-type {\n",
       "        vertical-align: middle;\n",
       "    }\n",
       "\n",
       "    .dataframe tbody tr th {\n",
       "        vertical-align: top;\n",
       "    }\n",
       "\n",
       "    .dataframe thead th {\n",
       "        text-align: right;\n",
       "    }\n",
       "</style>\n",
       "<table border=\"1\" class=\"dataframe\">\n",
       "  <thead>\n",
       "    <tr style=\"text-align: right;\">\n",
       "      <th></th>\n",
       "      <th>credit_type</th>\n",
       "      <th>loan_amount</th>\n",
       "      <th>amount_overdue</th>\n",
       "      <th>open_date</th>\n",
       "      <th>closed_date</th>\n",
       "      <th>payment_hist_string</th>\n",
       "      <th>uid</th>\n",
       "    </tr>\n",
       "  </thead>\n",
       "  <tbody>\n",
       "    <tr>\n",
       "      <th>147697</th>\n",
       "      <td>Consumer credit</td>\n",
       "      <td>360000.0</td>\n",
       "      <td>0.0</td>\n",
       "      <td>2013-06-05</td>\n",
       "      <td>2013-03-14</td>\n",
       "      <td></td>\n",
       "      <td>DBX47652567</td>\n",
       "    </tr>\n",
       "    <tr>\n",
       "      <th>752854</th>\n",
       "      <td>Credit card</td>\n",
       "      <td>225000.0</td>\n",
       "      <td>0.0</td>\n",
       "      <td>2014-08-06</td>\n",
       "      <td>1905-12-13</td>\n",
       "      <td></td>\n",
       "      <td>PSI76661644</td>\n",
       "    </tr>\n",
       "    <tr>\n",
       "      <th>941309</th>\n",
       "      <td>Consumer credit</td>\n",
       "      <td>157500.0</td>\n",
       "      <td>0.0</td>\n",
       "      <td>2015-11-22</td>\n",
       "      <td>2015-10-09</td>\n",
       "      <td></td>\n",
       "      <td>TQK82834352</td>\n",
       "    </tr>\n",
       "    <tr>\n",
       "      <th>642848</th>\n",
       "      <td>Mortgage</td>\n",
       "      <td>2250000.0</td>\n",
       "      <td>0.0</td>\n",
       "      <td>2017-03-12</td>\n",
       "      <td>2013-10-18</td>\n",
       "      <td></td>\n",
       "      <td>NLJ87108009</td>\n",
       "    </tr>\n",
       "    <tr>\n",
       "      <th>143642</th>\n",
       "      <td>Consumer credit</td>\n",
       "      <td>450000.0</td>\n",
       "      <td>0.0</td>\n",
       "      <td>2017-05-27</td>\n",
       "      <td>2017-04-14</td>\n",
       "      <td></td>\n",
       "      <td>CZP89943956</td>\n",
       "    </tr>\n",
       "    <tr>\n",
       "      <th>664086</th>\n",
       "      <td>Consumer credit</td>\n",
       "      <td>93564.0</td>\n",
       "      <td>0.0</td>\n",
       "      <td>2017-06-02</td>\n",
       "      <td>2016-12-02</td>\n",
       "      <td></td>\n",
       "      <td>NWS78995671</td>\n",
       "    </tr>\n",
       "    <tr>\n",
       "      <th>1208571</th>\n",
       "      <td>Consumer credit</td>\n",
       "      <td>4500000.0</td>\n",
       "      <td>0.0</td>\n",
       "      <td>2017-09-28</td>\n",
       "      <td>2013-01-22</td>\n",
       "      <td></td>\n",
       "      <td>ZFW60745418</td>\n",
       "    </tr>\n",
       "    <tr>\n",
       "      <th>380416</th>\n",
       "      <td>Consumer credit</td>\n",
       "      <td>711450.0</td>\n",
       "      <td>0.0</td>\n",
       "      <td>2018-03-17</td>\n",
       "      <td>2012-09-03</td>\n",
       "      <td></td>\n",
       "      <td>HXU23242159</td>\n",
       "    </tr>\n",
       "    <tr>\n",
       "      <th>920889</th>\n",
       "      <td>Consumer credit</td>\n",
       "      <td>1350000.0</td>\n",
       "      <td>0.0</td>\n",
       "      <td>2018-07-29</td>\n",
       "      <td>2018-02-04</td>\n",
       "      <td></td>\n",
       "      <td>TFK88667051</td>\n",
       "    </tr>\n",
       "    <tr>\n",
       "      <th>1162654</th>\n",
       "      <td>Consumer credit</td>\n",
       "      <td>2700000.0</td>\n",
       "      <td>0.0</td>\n",
       "      <td>2018-08-13</td>\n",
       "      <td>2015-02-14</td>\n",
       "      <td></td>\n",
       "      <td>YHB76696641</td>\n",
       "    </tr>\n",
       "    <tr>\n",
       "      <th>212896</th>\n",
       "      <td>Credit card</td>\n",
       "      <td>675000.0</td>\n",
       "      <td>0.0</td>\n",
       "      <td>2019-03-27</td>\n",
       "      <td>2015-11-29</td>\n",
       "      <td></td>\n",
       "      <td>ELL49792531</td>\n",
       "    </tr>\n",
       "    <tr>\n",
       "      <th>91932</th>\n",
       "      <td>Consumer credit</td>\n",
       "      <td>153000.0</td>\n",
       "      <td>0.0</td>\n",
       "      <td>2019-07-08</td>\n",
       "      <td>2019-06-17</td>\n",
       "      <td></td>\n",
       "      <td>BXW18347652</td>\n",
       "    </tr>\n",
       "    <tr>\n",
       "      <th>65605</th>\n",
       "      <td>Another type of loan</td>\n",
       "      <td>NaN</td>\n",
       "      <td>0.0</td>\n",
       "      <td>2021-01-01</td>\n",
       "      <td>2020-10-21</td>\n",
       "      <td></td>\n",
       "      <td>BJV01354901</td>\n",
       "    </tr>\n",
       "  </tbody>\n",
       "</table>\n",
       "</div>"
      ],
      "text/plain": [
       "                  credit_type  loan_amount  amount_overdue  open_date  \\\n",
       "147697        Consumer credit     360000.0             0.0 2013-06-05   \n",
       "752854            Credit card     225000.0             0.0 2014-08-06   \n",
       "941309        Consumer credit     157500.0             0.0 2015-11-22   \n",
       "642848               Mortgage    2250000.0             0.0 2017-03-12   \n",
       "143642        Consumer credit     450000.0             0.0 2017-05-27   \n",
       "664086        Consumer credit      93564.0             0.0 2017-06-02   \n",
       "1208571       Consumer credit    4500000.0             0.0 2017-09-28   \n",
       "380416        Consumer credit     711450.0             0.0 2018-03-17   \n",
       "920889        Consumer credit    1350000.0             0.0 2018-07-29   \n",
       "1162654       Consumer credit    2700000.0             0.0 2018-08-13   \n",
       "212896            Credit card     675000.0             0.0 2019-03-27   \n",
       "91932         Consumer credit     153000.0             0.0 2019-07-08   \n",
       "65605    Another type of loan          NaN             0.0 2021-01-01   \n",
       "\n",
       "        closed_date payment_hist_string          uid  \n",
       "147697   2013-03-14                      DBX47652567  \n",
       "752854   1905-12-13                      PSI76661644  \n",
       "941309   2015-10-09                      TQK82834352  \n",
       "642848   2013-10-18                      NLJ87108009  \n",
       "143642   2017-04-14                      CZP89943956  \n",
       "664086   2016-12-02                      NWS78995671  \n",
       "1208571  2013-01-22                      ZFW60745418  \n",
       "380416   2012-09-03                      HXU23242159  \n",
       "920889   2018-02-04                      TFK88667051  \n",
       "1162654  2015-02-14                      YHB76696641  \n",
       "212896   2015-11-29                      ELL49792531  \n",
       "91932    2019-06-17                      BXW18347652  \n",
       "65605    2020-10-21                      BJV01354901  "
      ]
     },
     "execution_count": 14,
     "metadata": {},
     "output_type": "execute_result"
    }
   ],
   "source": [
    "# checking for records where open_date>closed_date which is not possible\n",
    "accounts_data_train[accounts_data_train['open_date']>accounts_data_train['closed_date']]"
   ]
  },
  {
   "cell_type": "code",
   "execution_count": 15,
   "id": "fd95b08a",
   "metadata": {},
   "outputs": [
    {
     "data": {
      "text/html": [
       "<div>\n",
       "<style scoped>\n",
       "    .dataframe tbody tr th:only-of-type {\n",
       "        vertical-align: middle;\n",
       "    }\n",
       "\n",
       "    .dataframe tbody tr th {\n",
       "        vertical-align: top;\n",
       "    }\n",
       "\n",
       "    .dataframe thead th {\n",
       "        text-align: right;\n",
       "    }\n",
       "</style>\n",
       "<table border=\"1\" class=\"dataframe\">\n",
       "  <thead>\n",
       "    <tr style=\"text-align: right;\">\n",
       "      <th></th>\n",
       "      <th>credit_type</th>\n",
       "      <th>loan_amount</th>\n",
       "      <th>amount_overdue</th>\n",
       "      <th>open_date</th>\n",
       "      <th>closed_date</th>\n",
       "      <th>payment_hist_string</th>\n",
       "      <th>uid</th>\n",
       "    </tr>\n",
       "  </thead>\n",
       "  <tbody>\n",
       "    <tr>\n",
       "      <th>65605</th>\n",
       "      <td>Another type of loan</td>\n",
       "      <td>NaN</td>\n",
       "      <td>0.0</td>\n",
       "      <td>2021-01-01</td>\n",
       "      <td>2020-10-21</td>\n",
       "      <td></td>\n",
       "      <td>BJV01354901</td>\n",
       "    </tr>\n",
       "    <tr>\n",
       "      <th>149202</th>\n",
       "      <td>Another type of loan</td>\n",
       "      <td>NaN</td>\n",
       "      <td>0.0</td>\n",
       "      <td>2021-01-01</td>\n",
       "      <td>NaT</td>\n",
       "      <td></td>\n",
       "      <td>DCX71532515</td>\n",
       "    </tr>\n",
       "    <tr>\n",
       "      <th>613183</th>\n",
       "      <td>Another type of loan</td>\n",
       "      <td>NaN</td>\n",
       "      <td>0.0</td>\n",
       "      <td>2021-01-01</td>\n",
       "      <td>NaT</td>\n",
       "      <td></td>\n",
       "      <td>MVG95017452</td>\n",
       "    </tr>\n",
       "  </tbody>\n",
       "</table>\n",
       "</div>"
      ],
      "text/plain": [
       "                 credit_type  loan_amount  amount_overdue  open_date  \\\n",
       "65605   Another type of loan          NaN             0.0 2021-01-01   \n",
       "149202  Another type of loan          NaN             0.0 2021-01-01   \n",
       "613183  Another type of loan          NaN             0.0 2021-01-01   \n",
       "\n",
       "       closed_date payment_hist_string          uid  \n",
       "65605   2020-10-21                      BJV01354901  \n",
       "149202         NaT                      DCX71532515  \n",
       "613183         NaT                      MVG95017452  "
      ]
     },
     "execution_count": 15,
     "metadata": {},
     "output_type": "execute_result"
    }
   ],
   "source": [
    "# checking for null values other than closed_date since it could be null if the loan is running\n",
    "accounts_data_train[accounts_data_train[['credit_type','loan_amount','amount_overdue','open_date','payment_hist_string','uid']].isnull().any(axis=1)]"
   ]
  },
  {
   "cell_type": "code",
   "execution_count": 16,
   "id": "04336815",
   "metadata": {},
   "outputs": [
    {
     "data": {
      "text/html": [
       "<div>\n",
       "<style scoped>\n",
       "    .dataframe tbody tr th:only-of-type {\n",
       "        vertical-align: middle;\n",
       "    }\n",
       "\n",
       "    .dataframe tbody tr th {\n",
       "        vertical-align: top;\n",
       "    }\n",
       "\n",
       "    .dataframe thead th {\n",
       "        text-align: right;\n",
       "    }\n",
       "</style>\n",
       "<table border=\"1\" class=\"dataframe\">\n",
       "  <thead>\n",
       "    <tr style=\"text-align: right;\">\n",
       "      <th></th>\n",
       "      <th>credit_type</th>\n",
       "      <th>loan_amount</th>\n",
       "      <th>amount_overdue</th>\n",
       "      <th>open_date</th>\n",
       "      <th>closed_date</th>\n",
       "      <th>payment_hist_string</th>\n",
       "      <th>uid</th>\n",
       "    </tr>\n",
       "  </thead>\n",
       "  <tbody>\n",
       "    <tr>\n",
       "      <th>624647</th>\n",
       "      <td>Consumer credit</td>\n",
       "      <td>248423.175</td>\n",
       "      <td>0.0</td>\n",
       "      <td>2013-01-01</td>\n",
       "      <td>2013-01-01</td>\n",
       "      <td></td>\n",
       "      <td>NBJ84882791</td>\n",
       "    </tr>\n",
       "    <tr>\n",
       "      <th>660441</th>\n",
       "      <td>Consumer credit</td>\n",
       "      <td>67500.000</td>\n",
       "      <td>0.0</td>\n",
       "      <td>2013-01-03</td>\n",
       "      <td>2013-01-14</td>\n",
       "      <td></td>\n",
       "      <td>NUS10152033</td>\n",
       "    </tr>\n",
       "    <tr>\n",
       "      <th>660446</th>\n",
       "      <td>Consumer credit</td>\n",
       "      <td>71367.210</td>\n",
       "      <td>0.0</td>\n",
       "      <td>2013-01-03</td>\n",
       "      <td>2013-01-14</td>\n",
       "      <td></td>\n",
       "      <td>NUS10152033</td>\n",
       "    </tr>\n",
       "    <tr>\n",
       "      <th>190001</th>\n",
       "      <td>Consumer credit</td>\n",
       "      <td>45000.000</td>\n",
       "      <td>0.0</td>\n",
       "      <td>2013-01-03</td>\n",
       "      <td>2013-01-31</td>\n",
       "      <td></td>\n",
       "      <td>DZF19669551</td>\n",
       "    </tr>\n",
       "    <tr>\n",
       "      <th>1193335</th>\n",
       "      <td>Consumer credit</td>\n",
       "      <td>90000.000</td>\n",
       "      <td>0.0</td>\n",
       "      <td>2013-01-03</td>\n",
       "      <td>2013-01-04</td>\n",
       "      <td></td>\n",
       "      <td>YXN97131577</td>\n",
       "    </tr>\n",
       "    <tr>\n",
       "      <th>...</th>\n",
       "      <td>...</td>\n",
       "      <td>...</td>\n",
       "      <td>...</td>\n",
       "      <td>...</td>\n",
       "      <td>...</td>\n",
       "      <td>...</td>\n",
       "      <td>...</td>\n",
       "    </tr>\n",
       "    <tr>\n",
       "      <th>794315</th>\n",
       "      <td>Consumer credit</td>\n",
       "      <td>747000.000</td>\n",
       "      <td>0.0</td>\n",
       "      <td>2020-12-31</td>\n",
       "      <td>NaT</td>\n",
       "      <td></td>\n",
       "      <td>QOO60405120</td>\n",
       "    </tr>\n",
       "    <tr>\n",
       "      <th>65605</th>\n",
       "      <td>Another type of loan</td>\n",
       "      <td>NaN</td>\n",
       "      <td>0.0</td>\n",
       "      <td>2021-01-01</td>\n",
       "      <td>2020-10-21</td>\n",
       "      <td></td>\n",
       "      <td>BJV01354901</td>\n",
       "    </tr>\n",
       "    <tr>\n",
       "      <th>149202</th>\n",
       "      <td>Another type of loan</td>\n",
       "      <td>NaN</td>\n",
       "      <td>0.0</td>\n",
       "      <td>2021-01-01</td>\n",
       "      <td>NaT</td>\n",
       "      <td></td>\n",
       "      <td>DCX71532515</td>\n",
       "    </tr>\n",
       "    <tr>\n",
       "      <th>686275</th>\n",
       "      <td>Microloan</td>\n",
       "      <td>49500.000</td>\n",
       "      <td>0.0</td>\n",
       "      <td>2021-01-01</td>\n",
       "      <td>NaT</td>\n",
       "      <td></td>\n",
       "      <td>OIO08447095</td>\n",
       "    </tr>\n",
       "    <tr>\n",
       "      <th>613183</th>\n",
       "      <td>Another type of loan</td>\n",
       "      <td>NaN</td>\n",
       "      <td>0.0</td>\n",
       "      <td>2021-01-01</td>\n",
       "      <td>NaT</td>\n",
       "      <td></td>\n",
       "      <td>MVG95017452</td>\n",
       "    </tr>\n",
       "  </tbody>\n",
       "</table>\n",
       "<p>29003 rows × 7 columns</p>\n",
       "</div>"
      ],
      "text/plain": [
       "                  credit_type  loan_amount  amount_overdue  open_date  \\\n",
       "624647        Consumer credit   248423.175             0.0 2013-01-01   \n",
       "660441        Consumer credit    67500.000             0.0 2013-01-03   \n",
       "660446        Consumer credit    71367.210             0.0 2013-01-03   \n",
       "190001        Consumer credit    45000.000             0.0 2013-01-03   \n",
       "1193335       Consumer credit    90000.000             0.0 2013-01-03   \n",
       "...                       ...          ...             ...        ...   \n",
       "794315        Consumer credit   747000.000             0.0 2020-12-31   \n",
       "65605    Another type of loan          NaN             0.0 2021-01-01   \n",
       "149202   Another type of loan          NaN             0.0 2021-01-01   \n",
       "686275              Microloan    49500.000             0.0 2021-01-01   \n",
       "613183   Another type of loan          NaN             0.0 2021-01-01   \n",
       "\n",
       "        closed_date payment_hist_string          uid  \n",
       "624647   2013-01-01                      NBJ84882791  \n",
       "660441   2013-01-14                      NUS10152033  \n",
       "660446   2013-01-14                      NUS10152033  \n",
       "190001   2013-01-31                      DZF19669551  \n",
       "1193335  2013-01-04                      YXN97131577  \n",
       "...             ...                 ...          ...  \n",
       "794315          NaT                      QOO60405120  \n",
       "65605    2020-10-21                      BJV01354901  \n",
       "149202          NaT                      DCX71532515  \n",
       "686275          NaT                      OIO08447095  \n",
       "613183          NaT                      MVG95017452  \n",
       "\n",
       "[29003 rows x 7 columns]"
      ]
     },
     "execution_count": 16,
     "metadata": {},
     "output_type": "execute_result"
    }
   ],
   "source": [
    "# checking for empty strings in the payment_hist_string column.\n",
    "# this could be due to - the loan was paid within less than 1 month or\n",
    "# the loan was taken less than 1 month back\n",
    "accounts_data_train[accounts_data_train['payment_hist_string']=='']"
   ]
  },
  {
   "cell_type": "code",
   "execution_count": 17,
   "id": "a3030efe",
   "metadata": {},
   "outputs": [
    {
     "data": {
      "text/html": [
       "<div>\n",
       "<style scoped>\n",
       "    .dataframe tbody tr th:only-of-type {\n",
       "        vertical-align: middle;\n",
       "    }\n",
       "\n",
       "    .dataframe tbody tr th {\n",
       "        vertical-align: top;\n",
       "    }\n",
       "\n",
       "    .dataframe thead th {\n",
       "        text-align: right;\n",
       "    }\n",
       "</style>\n",
       "<table border=\"1\" class=\"dataframe\">\n",
       "  <thead>\n",
       "    <tr style=\"text-align: right;\">\n",
       "      <th></th>\n",
       "      <th>credit_type</th>\n",
       "      <th>loan_amount</th>\n",
       "      <th>amount_overdue</th>\n",
       "      <th>open_date</th>\n",
       "      <th>closed_date</th>\n",
       "      <th>payment_hist_string</th>\n",
       "      <th>uid</th>\n",
       "    </tr>\n",
       "  </thead>\n",
       "  <tbody>\n",
       "    <tr>\n",
       "      <th>624647</th>\n",
       "      <td>Consumer credit</td>\n",
       "      <td>248423.175</td>\n",
       "      <td>0.0</td>\n",
       "      <td>2013-01-01</td>\n",
       "      <td>2013-01-01</td>\n",
       "      <td></td>\n",
       "      <td>NBJ84882791</td>\n",
       "    </tr>\n",
       "    <tr>\n",
       "      <th>660441</th>\n",
       "      <td>Consumer credit</td>\n",
       "      <td>67500.000</td>\n",
       "      <td>0.0</td>\n",
       "      <td>2013-01-03</td>\n",
       "      <td>2013-01-14</td>\n",
       "      <td></td>\n",
       "      <td>NUS10152033</td>\n",
       "    </tr>\n",
       "    <tr>\n",
       "      <th>660446</th>\n",
       "      <td>Consumer credit</td>\n",
       "      <td>71367.210</td>\n",
       "      <td>0.0</td>\n",
       "      <td>2013-01-03</td>\n",
       "      <td>2013-01-14</td>\n",
       "      <td></td>\n",
       "      <td>NUS10152033</td>\n",
       "    </tr>\n",
       "    <tr>\n",
       "      <th>190001</th>\n",
       "      <td>Consumer credit</td>\n",
       "      <td>45000.000</td>\n",
       "      <td>0.0</td>\n",
       "      <td>2013-01-03</td>\n",
       "      <td>2013-01-31</td>\n",
       "      <td></td>\n",
       "      <td>DZF19669551</td>\n",
       "    </tr>\n",
       "    <tr>\n",
       "      <th>1193335</th>\n",
       "      <td>Consumer credit</td>\n",
       "      <td>90000.000</td>\n",
       "      <td>0.0</td>\n",
       "      <td>2013-01-03</td>\n",
       "      <td>2013-01-04</td>\n",
       "      <td></td>\n",
       "      <td>YXN97131577</td>\n",
       "    </tr>\n",
       "    <tr>\n",
       "      <th>...</th>\n",
       "      <td>...</td>\n",
       "      <td>...</td>\n",
       "      <td>...</td>\n",
       "      <td>...</td>\n",
       "      <td>...</td>\n",
       "      <td>...</td>\n",
       "      <td>...</td>\n",
       "    </tr>\n",
       "    <tr>\n",
       "      <th>484285</th>\n",
       "      <td>Consumer credit</td>\n",
       "      <td>9000.000</td>\n",
       "      <td>0.0</td>\n",
       "      <td>2020-12-28</td>\n",
       "      <td>2020-12-30</td>\n",
       "      <td></td>\n",
       "      <td>KBX30473139</td>\n",
       "    </tr>\n",
       "    <tr>\n",
       "      <th>1022809</th>\n",
       "      <td>Microloan</td>\n",
       "      <td>27000.000</td>\n",
       "      <td>0.0</td>\n",
       "      <td>2020-12-28</td>\n",
       "      <td>2020-12-30</td>\n",
       "      <td></td>\n",
       "      <td>VIO83393502</td>\n",
       "    </tr>\n",
       "    <tr>\n",
       "      <th>579359</th>\n",
       "      <td>Microloan</td>\n",
       "      <td>27000.000</td>\n",
       "      <td>0.0</td>\n",
       "      <td>2020-12-29</td>\n",
       "      <td>2020-12-31</td>\n",
       "      <td></td>\n",
       "      <td>MDB37692861</td>\n",
       "    </tr>\n",
       "    <tr>\n",
       "      <th>751771</th>\n",
       "      <td>Microloan</td>\n",
       "      <td>13500.000</td>\n",
       "      <td>0.0</td>\n",
       "      <td>2020-12-29</td>\n",
       "      <td>2020-12-30</td>\n",
       "      <td></td>\n",
       "      <td>PRV15666747</td>\n",
       "    </tr>\n",
       "    <tr>\n",
       "      <th>65605</th>\n",
       "      <td>Another type of loan</td>\n",
       "      <td>NaN</td>\n",
       "      <td>0.0</td>\n",
       "      <td>2021-01-01</td>\n",
       "      <td>2020-10-21</td>\n",
       "      <td></td>\n",
       "      <td>BJV01354901</td>\n",
       "    </tr>\n",
       "  </tbody>\n",
       "</table>\n",
       "<p>21406 rows × 7 columns</p>\n",
       "</div>"
      ],
      "text/plain": [
       "                  credit_type  loan_amount  amount_overdue  open_date  \\\n",
       "624647        Consumer credit   248423.175             0.0 2013-01-01   \n",
       "660441        Consumer credit    67500.000             0.0 2013-01-03   \n",
       "660446        Consumer credit    71367.210             0.0 2013-01-03   \n",
       "190001        Consumer credit    45000.000             0.0 2013-01-03   \n",
       "1193335       Consumer credit    90000.000             0.0 2013-01-03   \n",
       "...                       ...          ...             ...        ...   \n",
       "484285        Consumer credit     9000.000             0.0 2020-12-28   \n",
       "1022809             Microloan    27000.000             0.0 2020-12-28   \n",
       "579359              Microloan    27000.000             0.0 2020-12-29   \n",
       "751771              Microloan    13500.000             0.0 2020-12-29   \n",
       "65605    Another type of loan          NaN             0.0 2021-01-01   \n",
       "\n",
       "        closed_date payment_hist_string          uid  \n",
       "624647   2013-01-01                      NBJ84882791  \n",
       "660441   2013-01-14                      NUS10152033  \n",
       "660446   2013-01-14                      NUS10152033  \n",
       "190001   2013-01-31                      DZF19669551  \n",
       "1193335  2013-01-04                      YXN97131577  \n",
       "...             ...                 ...          ...  \n",
       "484285   2020-12-30                      KBX30473139  \n",
       "1022809  2020-12-30                      VIO83393502  \n",
       "579359   2020-12-31                      MDB37692861  \n",
       "751771   2020-12-30                      PRV15666747  \n",
       "65605    2020-10-21                      BJV01354901  \n",
       "\n",
       "[21406 rows x 7 columns]"
      ]
     },
     "execution_count": 17,
     "metadata": {},
     "output_type": "execute_result"
    }
   ],
   "source": [
    "# loans that were repaid within 1 month\n",
    "accounts_data_train[(accounts_data_train['payment_hist_string']=='')&((accounts_data_train['closed_date']-accounts_data_train['open_date'])/np.timedelta64(1, 'D')<31)]"
   ]
  },
  {
   "cell_type": "markdown",
   "id": "36cbf036",
   "metadata": {},
   "source": [
    "## 4 Exploratory Data Analysis"
   ]
  },
  {
   "cell_type": "code",
   "execution_count": 18,
   "id": "4cc6e101",
   "metadata": {},
   "outputs": [
    {
     "data": {
      "text/plain": [
       "<Axes: xlabel='credit_type'>"
      ]
     },
     "execution_count": 18,
     "metadata": {},
     "output_type": "execute_result"
    },
    {
     "data": {
      "image/png": "[encoded data removed]",
      "text/plain": [
       "<Figure size 640x480 with 1 Axes>"
      ]
     },
     "metadata": {},
     "output_type": "display_data"
    }
   ],
   "source": [
    "accounts_data_train['credit_type'].value_counts().plot.bar()"
   ]
  },
  {
   "cell_type": "markdown",
   "id": "ef9ebd02",
   "metadata": {},
   "source": [
    "### Observation:-\n",
    "- Most of the loans are of type consumer credit or credit card."
   ]
  },
  {
   "cell_type": "code",
   "execution_count": 19,
   "id": "60c0b4ee",
   "metadata": {},
   "outputs": [
    {
     "name": "stderr",
     "output_type": "stream",
     "text": [
      "D:\\anaconda3\\Lib\\site-packages\\seaborn\\_oldcore.py:1498: FutureWarning: is_categorical_dtype is deprecated and will be removed in a future version. Use isinstance(dtype, CategoricalDtype) instead\n",
      "  if pd.api.types.is_categorical_dtype(vector):\n",
      "D:\\anaconda3\\Lib\\site-packages\\seaborn\\_oldcore.py:1498: FutureWarning: is_categorical_dtype is deprecated and will be removed in a future version. Use isinstance(dtype, CategoricalDtype) instead\n",
      "  if pd.api.types.is_categorical_dtype(vector):\n",
      "D:\\anaconda3\\Lib\\site-packages\\seaborn\\_oldcore.py:1119: FutureWarning: use_inf_as_na option is deprecated and will be removed in a future version. Convert inf values to NaN before operating instead.\n",
      "  with pd.option_context('mode.use_inf_as_na', True):\n",
      "D:\\anaconda3\\Lib\\site-packages\\seaborn\\_oldcore.py:1119: FutureWarning: use_inf_as_na option is deprecated and will be removed in a future version. Convert inf values to NaN before operating instead.\n",
      "  with pd.option_context('mode.use_inf_as_na', True):\n"
     ]
    },
    {
     "data": {
      "image/png": "[encoded data removed]",
      "text/plain": [
       "<Figure size 640x480 with 1 Axes>"
      ]
     },
     "metadata": {},
     "output_type": "display_data"
    }
   ],
   "source": [
    "sns.lineplot(sorted(accounts_data_train['loan_amount']))\n",
    "plt.ylabel('loan_amount')\n",
    "plt.show()"
   ]
  },
  {
   "cell_type": "code",
   "execution_count": 20,
   "id": "1317c969",
   "metadata": {},
   "outputs": [
    {
     "data": {
      "text/plain": [
       "765000.0"
      ]
     },
     "execution_count": 20,
     "metadata": {},
     "output_type": "execute_result"
    }
   ],
   "source": [
    "accounts_data_train['loan_amount'].quantile(0.9)"
   ]
  },
  {
   "cell_type": "markdown",
   "id": "434ad376",
   "metadata": {},
   "source": [
    "### Observation\n",
    "- 90% of the loan amounts are less than 7,65,000 only."
   ]
  },
  {
   "cell_type": "code",
   "execution_count": 21,
   "id": "61566c72",
   "metadata": {},
   "outputs": [
    {
     "name": "stderr",
     "output_type": "stream",
     "text": [
      "D:\\anaconda3\\Lib\\site-packages\\seaborn\\_oldcore.py:1498: FutureWarning: is_categorical_dtype is deprecated and will be removed in a future version. Use isinstance(dtype, CategoricalDtype) instead\n",
      "  if pd.api.types.is_categorical_dtype(vector):\n",
      "D:\\anaconda3\\Lib\\site-packages\\seaborn\\_oldcore.py:1498: FutureWarning: is_categorical_dtype is deprecated and will be removed in a future version. Use isinstance(dtype, CategoricalDtype) instead\n",
      "  if pd.api.types.is_categorical_dtype(vector):\n",
      "D:\\anaconda3\\Lib\\site-packages\\seaborn\\_oldcore.py:1119: FutureWarning: use_inf_as_na option is deprecated and will be removed in a future version. Convert inf values to NaN before operating instead.\n",
      "  with pd.option_context('mode.use_inf_as_na', True):\n",
      "D:\\anaconda3\\Lib\\site-packages\\seaborn\\_oldcore.py:1119: FutureWarning: use_inf_as_na option is deprecated and will be removed in a future version. Convert inf values to NaN before operating instead.\n",
      "  with pd.option_context('mode.use_inf_as_na', True):\n"
     ]
    },
    {
     "data": {
      "image/png": "[encoded data removed]",
      "text/plain": [
       "<Figure size 640x480 with 1 Axes>"
      ]
     },
     "metadata": {},
     "output_type": "display_data"
    }
   ],
   "source": [
    "sns.lineplot(sorted(accounts_data_train['amount_overdue']))\n",
    "plt.ylabel('amount_overdue')\n",
    "plt.show()"
   ]
  },
  {
   "cell_type": "code",
   "execution_count": 22,
   "id": "9de263fb",
   "metadata": {},
   "outputs": [
    {
     "data": {
      "text/plain": [
       "0.0"
      ]
     },
     "execution_count": 22,
     "metadata": {},
     "output_type": "execute_result"
    }
   ],
   "source": [
    "accounts_data_train['amount_overdue'].quantile(0.997)"
   ]
  },
  {
   "cell_type": "markdown",
   "id": "dc7204b9",
   "metadata": {},
   "source": [
    "### Observation:-\n",
    "- 99.7% of the amount overdues are equal to 0 only."
   ]
  },
  {
   "cell_type": "code",
   "execution_count": 23,
   "id": "773cc128",
   "metadata": {},
   "outputs": [
    {
     "data": {
      "text/plain": [
       "<Axes: xlabel='enquiry_type'>"
      ]
     },
     "execution_count": 23,
     "metadata": {},
     "output_type": "execute_result"
    },
    {
     "data": {
      "image/png": "[encoded data removed]",
      "text/plain": [
       "<Figure size 640x480 with 1 Axes>"
      ]
     },
     "metadata": {},
     "output_type": "display_data"
    }
   ],
   "source": [
    "enquiry_data_train['enquiry_type'].value_counts().plot.bar()"
   ]
  },
  {
   "cell_type": "code",
   "execution_count": 24,
   "id": "bfe71a39",
   "metadata": {},
   "outputs": [
    {
     "name": "stderr",
     "output_type": "stream",
     "text": [
      "D:\\anaconda3\\Lib\\site-packages\\seaborn\\_oldcore.py:1498: FutureWarning: is_categorical_dtype is deprecated and will be removed in a future version. Use isinstance(dtype, CategoricalDtype) instead\n",
      "  if pd.api.types.is_categorical_dtype(vector):\n",
      "D:\\anaconda3\\Lib\\site-packages\\seaborn\\_oldcore.py:1498: FutureWarning: is_categorical_dtype is deprecated and will be removed in a future version. Use isinstance(dtype, CategoricalDtype) instead\n",
      "  if pd.api.types.is_categorical_dtype(vector):\n",
      "D:\\anaconda3\\Lib\\site-packages\\seaborn\\_oldcore.py:1119: FutureWarning: use_inf_as_na option is deprecated and will be removed in a future version. Convert inf values to NaN before operating instead.\n",
      "  with pd.option_context('mode.use_inf_as_na', True):\n",
      "D:\\anaconda3\\Lib\\site-packages\\seaborn\\_oldcore.py:1119: FutureWarning: use_inf_as_na option is deprecated and will be removed in a future version. Convert inf values to NaN before operating instead.\n",
      "  with pd.option_context('mode.use_inf_as_na', True):\n"
     ]
    },
    {
     "data": {
      "image/png": "[encoded data removed]",
      "text/plain": [
       "<Figure size 640x480 with 1 Axes>"
      ]
     },
     "metadata": {},
     "output_type": "display_data"
    }
   ],
   "source": [
    "sns.lineplot(sorted(enquiry_data_train['enquiry_amt']))\n",
    "plt.show()"
   ]
  },
  {
   "cell_type": "code",
   "execution_count": 25,
   "id": "ddbf10ca",
   "metadata": {},
   "outputs": [
    {
     "data": {
      "text/plain": [
       "<Axes: xlabel='NAME_CONTRACT_TYPE,TARGET'>"
      ]
     },
     "execution_count": 25,
     "metadata": {},
     "output_type": "execute_result"
    },
    {
     "data": {
      "image/png": "[encoded data removed]",
      "text/plain": [
       "<Figure size 640x480 with 1 Axes>"
      ]
     },
     "metadata": {},
     "output_type": "display_data"
    }
   ],
   "source": [
    "train_flag.groupby('NAME_CONTRACT_TYPE')['TARGET'].value_counts().plot.bar()"
   ]
  },
  {
   "cell_type": "code",
   "execution_count": 26,
   "id": "c26c3132",
   "metadata": {},
   "outputs": [
    {
     "name": "stdout",
     "output_type": "stream",
     "text": [
      "TARGET\n",
      "0    240326\n",
      "1     21057\n",
      "Name: count, dtype: int64\n",
      "8.06% of the points are bad\n"
     ]
    },
    {
     "data": {
      "image/png": "[encoded data removed]",
      "text/plain": [
       "<Figure size 640x480 with 1 Axes>"
      ]
     },
     "metadata": {},
     "output_type": "display_data"
    }
   ],
   "source": [
    "tf_vc = train_flag['TARGET'].value_counts()\n",
    "print(tf_vc)\n",
    "tf_vc.plot.bar()\n",
    "print(f'{round(tf_vc[1]*100/(tf_vc[0]+tf_vc[1]),2)}% of the points are bad')"
   ]
  },
  {
   "cell_type": "markdown",
   "id": "06cf9800",
   "metadata": {},
   "source": [
    "### Observation:-\n",
    "- This is an imbanced dataset."
   ]
  },
  {
   "cell_type": "markdown",
   "id": "5ab568d4",
   "metadata": {},
   "source": [
    "## 5 Dataset Preparation"
   ]
  },
  {
   "cell_type": "code",
   "execution_count": 27,
   "id": "92722a45",
   "metadata": {},
   "outputs": [],
   "source": [
    "# we use the following to convert the payment_hist_string to total number of days\n",
    "def n_days(row):\n",
    "    string = row['payment_hist_string']\n",
    "    n = len(string)\n",
    "    if (n/3-int(n/3))>0:\n",
    "        print(n)\n",
    "    chunks = int(n/3)\n",
    "    n_days = 0\n",
    "    for i in range(chunks):\n",
    "        n_days += int(string[3*i:3*i+3])\n",
    "    return n_days"
   ]
  },
  {
   "cell_type": "code",
   "execution_count": 28,
   "id": "d0f43416",
   "metadata": {},
   "outputs": [],
   "source": [
    "accounts_data_train['n_days'] = accounts_data_train.apply(n_days, axis=1)\n",
    "\n",
    "# we add the following field to check if an applicant has outstanding loans because it would be helpful\n",
    "accounts_data_train.loc[accounts_data_train['closed_date'].isnull(),'n_loans'] = 1\n",
    "accounts_data_train.loc[~accounts_data_train['closed_date'].isnull(),'n_loans'] = 0"
   ]
  },
  {
   "cell_type": "code",
   "execution_count": 29,
   "id": "359c9440",
   "metadata": {},
   "outputs": [],
   "source": [
    "dataset_train = accounts_data_train.groupby('uid')[['loan_amount','amount_overdue','n_days','n_loans']].sum()\n",
    "dataset_train = pd.concat([dataset_train, enquiry_data_train.groupby('uid')['enquiry_amt'].sum()],axis=1)"
   ]
  },
  {
   "cell_type": "code",
   "execution_count": 30,
   "id": "8496dd48",
   "metadata": {},
   "outputs": [],
   "source": [
    "df = accounts_data_train.groupby('uid')['credit_type'].value_counts()\n",
    "dataset_train['Consumer credit 1'] = 0\n",
    "dataset_train['Credit card 1'] = 0\n",
    "dataset_train['Car loan 1'] = 0\n",
    "dataset_train['Mortgage 1'] = 0\n",
    "dataset_train['Microloan 1'] = 0\n",
    "dataset_train['Loan for business development 1'] = 0\n",
    "dataset_train['Another type of loan 1'] = 0\n",
    "dataset_train['Unknown type of loan 1'] = 0\n",
    "dataset_train['Loan for working capital replenishment 1'] = 0\n",
    "dataset_train['Real estate loan 1'] = 0\n",
    "dataset_train['Cash loan (non-earmarked) 1'] = 0\n",
    "dataset_train['Loan for the purchase of equipment 1'] = 0\n",
    "dataset_train['Loan for purchase of shares (margin lending) 1'] = 0 \n",
    "dataset_train['Interbank credit 1'] = 0 \n",
    "dataset_train['Mobile operator loan 1'] = 0 \n",
    "\n",
    "count = []\n",
    "for elem in df:\n",
    "    count.append(elem)\n",
    "lst = []\n",
    "for index, count in zip(df.index, count):\n",
    "    lst.append([index[0], index[1], count])\n",
    "for elem in lst:\n",
    "    dataset_train.loc[elem[0],f'{elem[1]} 1'] = elem[2]"
   ]
  },
  {
   "cell_type": "code",
   "execution_count": 31,
   "id": "9e4389ee",
   "metadata": {},
   "outputs": [],
   "source": [
    "df = enquiry_data_train.groupby('uid')['enquiry_type'].value_counts()\n",
    "dataset_train['Cash loans 2'] = 0\n",
    "dataset_train['Revolving loans 2'] = 0\n",
    "dataset_train['Mobile operator loan 2'] = 0\n",
    "dataset_train['Real estate loan 2'] = 0\n",
    "dataset_train['Microloan 2'] = 0\n",
    "dataset_train['Unknown type of loan 2'] = 0\n",
    "dataset_train['Loan for purchase of shares (margin lending) 2'] = 0\n",
    "dataset_train['Mortgage 2'] = 0\n",
    "dataset_train['Credit card 2'] = 0\n",
    "dataset_train['Another type of loan 2'] = 0\n",
    "dataset_train['Loan for the purchase of equipment 2'] = 0\n",
    "dataset_train['Interbank credit 2'] = 0\n",
    "dataset_train['Car loan 2'] = 0\n",
    "dataset_train['Loan for business development 2'] = 0\n",
    "dataset_train['Cash loan (non-earmarked) 2'] = 0\n",
    "dataset_train['Loan for working capital replenishment 2'] = 0\n",
    "dataset_train['Consumer credit 2'] = 0\n",
    "\n",
    "count = []\n",
    "for elem in df:\n",
    "    count.append(elem)\n",
    "lst = []\n",
    "for index, count in zip(df.index, count):\n",
    "    lst.append([index[0], index[1], count])\n",
    "for elem in lst:\n",
    "    dataset_train.loc[elem[0],f'{elem[1]} 2'] = elem[2]"
   ]
  },
  {
   "cell_type": "code",
   "execution_count": 32,
   "id": "9160597d",
   "metadata": {},
   "outputs": [],
   "source": [
    "dataset_train = pd.concat([dataset_train, train_flag[['uid','TARGET']].set_index('uid')], axis=1)"
   ]
  },
  {
   "cell_type": "code",
   "execution_count": 33,
   "id": "11047f94",
   "metadata": {},
   "outputs": [
    {
     "data": {
      "text/html": [
       "<div>\n",
       "<style scoped>\n",
       "    .dataframe tbody tr th:only-of-type {\n",
       "        vertical-align: middle;\n",
       "    }\n",
       "\n",
       "    .dataframe tbody tr th {\n",
       "        vertical-align: top;\n",
       "    }\n",
       "\n",
       "    .dataframe thead th {\n",
       "        text-align: right;\n",
       "    }\n",
       "</style>\n",
       "<table border=\"1\" class=\"dataframe\">\n",
       "  <thead>\n",
       "    <tr style=\"text-align: right;\">\n",
       "      <th></th>\n",
       "      <th>Column</th>\n",
       "      <th>Bad</th>\n",
       "      <th>Total</th>\n",
       "      <th>Fraction</th>\n",
       "    </tr>\n",
       "  </thead>\n",
       "  <tbody>\n",
       "    <tr>\n",
       "      <th>14</th>\n",
       "      <td>Real estate loan 1</td>\n",
       "      <td>0</td>\n",
       "      <td>17</td>\n",
       "      <td>0.000000</td>\n",
       "    </tr>\n",
       "    <tr>\n",
       "      <th>17</th>\n",
       "      <td>Loan for purchase of shares (margin lending) 1</td>\n",
       "      <td>0</td>\n",
       "      <td>4</td>\n",
       "      <td>0.000000</td>\n",
       "    </tr>\n",
       "    <tr>\n",
       "      <th>18</th>\n",
       "      <td>Interbank credit 1</td>\n",
       "      <td>0</td>\n",
       "      <td>1</td>\n",
       "      <td>0.000000</td>\n",
       "    </tr>\n",
       "    <tr>\n",
       "      <th>19</th>\n",
       "      <td>Mobile operator loan 1</td>\n",
       "      <td>0</td>\n",
       "      <td>1</td>\n",
       "      <td>0.000000</td>\n",
       "    </tr>\n",
       "    <tr>\n",
       "      <th>8</th>\n",
       "      <td>Mortgage 1</td>\n",
       "      <td>629</td>\n",
       "      <td>12098</td>\n",
       "      <td>0.051992</td>\n",
       "    </tr>\n",
       "    <tr>\n",
       "      <th>7</th>\n",
       "      <td>Car loan 1</td>\n",
       "      <td>963</td>\n",
       "      <td>16650</td>\n",
       "      <td>0.057838</td>\n",
       "    </tr>\n",
       "    <tr>\n",
       "      <th>10</th>\n",
       "      <td>Loan for business development 1</td>\n",
       "      <td>71</td>\n",
       "      <td>1185</td>\n",
       "      <td>0.059916</td>\n",
       "    </tr>\n",
       "    <tr>\n",
       "      <th>12</th>\n",
       "      <td>Unknown type of loan 1</td>\n",
       "      <td>22</td>\n",
       "      <td>336</td>\n",
       "      <td>0.065476</td>\n",
       "    </tr>\n",
       "    <tr>\n",
       "      <th>15</th>\n",
       "      <td>Cash loan (non-earmarked) 1</td>\n",
       "      <td>1</td>\n",
       "      <td>15</td>\n",
       "      <td>0.066667</td>\n",
       "    </tr>\n",
       "    <tr>\n",
       "      <th>13</th>\n",
       "      <td>Loan for working capital replenishment 1</td>\n",
       "      <td>40</td>\n",
       "      <td>279</td>\n",
       "      <td>0.143369</td>\n",
       "    </tr>\n",
       "    <tr>\n",
       "      <th>1</th>\n",
       "      <td>amount_overdue</td>\n",
       "      <td>456</td>\n",
       "      <td>2829</td>\n",
       "      <td>0.161188</td>\n",
       "    </tr>\n",
       "    <tr>\n",
       "      <th>16</th>\n",
       "      <td>Loan for the purchase of equipment 1</td>\n",
       "      <td>3</td>\n",
       "      <td>15</td>\n",
       "      <td>0.200000</td>\n",
       "    </tr>\n",
       "    <tr>\n",
       "      <th>9</th>\n",
       "      <td>Microloan 1</td>\n",
       "      <td>600</td>\n",
       "      <td>2989</td>\n",
       "      <td>0.200736</td>\n",
       "    </tr>\n",
       "  </tbody>\n",
       "</table>\n",
       "</div>"
      ],
      "text/plain": [
       "                                            Column  Bad  Total  Fraction\n",
       "14                              Real estate loan 1    0     17  0.000000\n",
       "17  Loan for purchase of shares (margin lending) 1    0      4  0.000000\n",
       "18                              Interbank credit 1    0      1  0.000000\n",
       "19                          Mobile operator loan 1    0      1  0.000000\n",
       "8                                       Mortgage 1  629  12098  0.051992\n",
       "7                                       Car loan 1  963  16650  0.057838\n",
       "10                 Loan for business development 1   71   1185  0.059916\n",
       "12                          Unknown type of loan 1   22    336  0.065476\n",
       "15                     Cash loan (non-earmarked) 1    1     15  0.066667\n",
       "13        Loan for working capital replenishment 1   40    279  0.143369\n",
       "1                                   amount_overdue  456   2829  0.161188\n",
       "16            Loan for the purchase of equipment 1    3     15  0.200000\n",
       "9                                      Microloan 1  600   2989  0.200736"
      ]
     },
     "execution_count": 33,
     "metadata": {},
     "output_type": "execute_result"
    }
   ],
   "source": [
    "bad = []\n",
    "total = []\n",
    "for column in dataset_train.columns[:-1]:\n",
    "    bad.append(dataset_train[(dataset_train[column]>0)&(dataset_train['TARGET']==1)].shape[0])\n",
    "    total.append(dataset_train[dataset_train[column]>0].shape[0])\n",
    "df = pd.DataFrame({'Column':dataset_train.columns[:-1],'Bad':bad,'Total':total})\n",
    "df['Fraction'] = df['Bad']/df['Total']\n",
    "df[(df['Fraction']>0.09)|(df['Fraction']<0.07)].sort_values('Fraction')"
   ]
  },
  {
   "cell_type": "markdown",
   "id": "cf6c220a",
   "metadata": {},
   "source": [
    "### Observations\n",
    "- It is 2.5 times more probable that the loan could be default if the applicant had taken the microloan or loan for the purchase of the equipment.\n",
    "- It is 2 times more probable that the loan could be default if the applicant had amount_overdue.\n",
    "- It is 1.5 times more probable that the loan could be default if the applicant had taken loan for working capital replenishment.\n",
    "- It is relatively less probable that the loan could be default if the applicant had taken mortgage, car loan or loan for business development.\n",
    "- It appears that the number of days post due date does not have much effect on the outcome.\n",
    "- It appears that the number of outstanding loans does not have much effect on the outcome. But at higher thresholds, we can see that the probability is high."
   ]
  },
  {
   "cell_type": "code",
   "execution_count": 34,
   "id": "5743ed6e",
   "metadata": {},
   "outputs": [],
   "source": [
    "dataset_train.loc[dataset_train['loan_amount'].isnull(),['loan_amount','amount_overdue','n_days','n_loans']] = 0"
   ]
  },
  {
   "cell_type": "code",
   "execution_count": 35,
   "id": "806961aa",
   "metadata": {},
   "outputs": [
    {
     "data": {
      "text/html": [
       "<div>\n",
       "<style scoped>\n",
       "    .dataframe tbody tr th:only-of-type {\n",
       "        vertical-align: middle;\n",
       "    }\n",
       "\n",
       "    .dataframe tbody tr th {\n",
       "        vertical-align: top;\n",
       "    }\n",
       "\n",
       "    .dataframe thead th {\n",
       "        text-align: right;\n",
       "    }\n",
       "</style>\n",
       "<table border=\"1\" class=\"dataframe\">\n",
       "  <thead>\n",
       "    <tr style=\"text-align: right;\">\n",
       "      <th></th>\n",
       "      <th>loan_amount</th>\n",
       "      <th>amount_overdue</th>\n",
       "      <th>n_days</th>\n",
       "      <th>n_loans</th>\n",
       "      <th>enquiry_amt</th>\n",
       "      <th>Consumer credit 1</th>\n",
       "      <th>Credit card 1</th>\n",
       "      <th>Car loan 1</th>\n",
       "      <th>Mortgage 1</th>\n",
       "      <th>Microloan 1</th>\n",
       "      <th>...</th>\n",
       "      <th>Credit card 2</th>\n",
       "      <th>Another type of loan 2</th>\n",
       "      <th>Loan for the purchase of equipment 2</th>\n",
       "      <th>Interbank credit 2</th>\n",
       "      <th>Car loan 2</th>\n",
       "      <th>Loan for business development 2</th>\n",
       "      <th>Cash loan (non-earmarked) 2</th>\n",
       "      <th>Loan for working capital replenishment 2</th>\n",
       "      <th>Consumer credit 2</th>\n",
       "      <th>TARGET</th>\n",
       "    </tr>\n",
       "    <tr>\n",
       "      <th>uid</th>\n",
       "      <th></th>\n",
       "      <th></th>\n",
       "      <th></th>\n",
       "      <th></th>\n",
       "      <th></th>\n",
       "      <th></th>\n",
       "      <th></th>\n",
       "      <th></th>\n",
       "      <th></th>\n",
       "      <th></th>\n",
       "      <th></th>\n",
       "      <th></th>\n",
       "      <th></th>\n",
       "      <th></th>\n",
       "      <th></th>\n",
       "      <th></th>\n",
       "      <th></th>\n",
       "      <th></th>\n",
       "      <th></th>\n",
       "      <th></th>\n",
       "      <th></th>\n",
       "    </tr>\n",
       "  </thead>\n",
       "  <tbody>\n",
       "    <tr>\n",
       "      <th>AAA09044550</th>\n",
       "      <td>277245.000</td>\n",
       "      <td>0.0</td>\n",
       "      <td>68.0</td>\n",
       "      <td>0.0</td>\n",
       "      <td>2659000</td>\n",
       "      <td>2</td>\n",
       "      <td>0</td>\n",
       "      <td>0</td>\n",
       "      <td>0</td>\n",
       "      <td>0</td>\n",
       "      <td>...</td>\n",
       "      <td>1</td>\n",
       "      <td>3</td>\n",
       "      <td>1</td>\n",
       "      <td>2</td>\n",
       "      <td>3</td>\n",
       "      <td>0</td>\n",
       "      <td>1</td>\n",
       "      <td>0</td>\n",
       "      <td>1</td>\n",
       "      <td>0</td>\n",
       "    </tr>\n",
       "    <tr>\n",
       "      <th>AAA10545297</th>\n",
       "      <td>80996.445</td>\n",
       "      <td>0.0</td>\n",
       "      <td>0.0</td>\n",
       "      <td>1.0</td>\n",
       "      <td>1317000</td>\n",
       "      <td>0</td>\n",
       "      <td>1</td>\n",
       "      <td>0</td>\n",
       "      <td>0</td>\n",
       "      <td>0</td>\n",
       "      <td>...</td>\n",
       "      <td>2</td>\n",
       "      <td>1</td>\n",
       "      <td>0</td>\n",
       "      <td>1</td>\n",
       "      <td>0</td>\n",
       "      <td>0</td>\n",
       "      <td>2</td>\n",
       "      <td>0</td>\n",
       "      <td>2</td>\n",
       "      <td>0</td>\n",
       "    </tr>\n",
       "    <tr>\n",
       "      <th>AAA14112888</th>\n",
       "      <td>43771.500</td>\n",
       "      <td>0.0</td>\n",
       "      <td>0.0</td>\n",
       "      <td>0.0</td>\n",
       "      <td>1465000</td>\n",
       "      <td>1</td>\n",
       "      <td>0</td>\n",
       "      <td>0</td>\n",
       "      <td>0</td>\n",
       "      <td>0</td>\n",
       "      <td>...</td>\n",
       "      <td>0</td>\n",
       "      <td>1</td>\n",
       "      <td>2</td>\n",
       "      <td>1</td>\n",
       "      <td>0</td>\n",
       "      <td>0</td>\n",
       "      <td>1</td>\n",
       "      <td>2</td>\n",
       "      <td>2</td>\n",
       "      <td>0</td>\n",
       "    </tr>\n",
       "    <tr>\n",
       "      <th>AAA20326915</th>\n",
       "      <td>591597.000</td>\n",
       "      <td>0.0</td>\n",
       "      <td>14477.0</td>\n",
       "      <td>3.0</td>\n",
       "      <td>66000</td>\n",
       "      <td>5</td>\n",
       "      <td>3</td>\n",
       "      <td>0</td>\n",
       "      <td>0</td>\n",
       "      <td>0</td>\n",
       "      <td>...</td>\n",
       "      <td>0</td>\n",
       "      <td>0</td>\n",
       "      <td>0</td>\n",
       "      <td>0</td>\n",
       "      <td>0</td>\n",
       "      <td>0</td>\n",
       "      <td>0</td>\n",
       "      <td>0</td>\n",
       "      <td>0</td>\n",
       "      <td>0</td>\n",
       "    </tr>\n",
       "    <tr>\n",
       "      <th>AAA31604840</th>\n",
       "      <td>1591960.500</td>\n",
       "      <td>0.0</td>\n",
       "      <td>0.0</td>\n",
       "      <td>3.0</td>\n",
       "      <td>1826000</td>\n",
       "      <td>4</td>\n",
       "      <td>1</td>\n",
       "      <td>0</td>\n",
       "      <td>0</td>\n",
       "      <td>0</td>\n",
       "      <td>...</td>\n",
       "      <td>0</td>\n",
       "      <td>1</td>\n",
       "      <td>2</td>\n",
       "      <td>1</td>\n",
       "      <td>0</td>\n",
       "      <td>3</td>\n",
       "      <td>1</td>\n",
       "      <td>0</td>\n",
       "      <td>2</td>\n",
       "      <td>0</td>\n",
       "    </tr>\n",
       "  </tbody>\n",
       "</table>\n",
       "<p>5 rows × 38 columns</p>\n",
       "</div>"
      ],
      "text/plain": [
       "             loan_amount  amount_overdue   n_days  n_loans  enquiry_amt  \\\n",
       "uid                                                                       \n",
       "AAA09044550   277245.000             0.0     68.0      0.0      2659000   \n",
       "AAA10545297    80996.445             0.0      0.0      1.0      1317000   \n",
       "AAA14112888    43771.500             0.0      0.0      0.0      1465000   \n",
       "AAA20326915   591597.000             0.0  14477.0      3.0        66000   \n",
       "AAA31604840  1591960.500             0.0      0.0      3.0      1826000   \n",
       "\n",
       "             Consumer credit 1  Credit card 1  Car loan 1  Mortgage 1  \\\n",
       "uid                                                                     \n",
       "AAA09044550                  2              0           0           0   \n",
       "AAA10545297                  0              1           0           0   \n",
       "AAA14112888                  1              0           0           0   \n",
       "AAA20326915                  5              3           0           0   \n",
       "AAA31604840                  4              1           0           0   \n",
       "\n",
       "             Microloan 1  ...  Credit card 2  Another type of loan 2  \\\n",
       "uid                       ...                                          \n",
       "AAA09044550            0  ...              1                       3   \n",
       "AAA10545297            0  ...              2                       1   \n",
       "AAA14112888            0  ...              0                       1   \n",
       "AAA20326915            0  ...              0                       0   \n",
       "AAA31604840            0  ...              0                       1   \n",
       "\n",
       "             Loan for the purchase of equipment 2  Interbank credit 2  \\\n",
       "uid                                                                     \n",
       "AAA09044550                                     1                   2   \n",
       "AAA10545297                                     0                   1   \n",
       "AAA14112888                                     2                   1   \n",
       "AAA20326915                                     0                   0   \n",
       "AAA31604840                                     2                   1   \n",
       "\n",
       "             Car loan 2  Loan for business development 2  \\\n",
       "uid                                                        \n",
       "AAA09044550           3                                0   \n",
       "AAA10545297           0                                0   \n",
       "AAA14112888           0                                0   \n",
       "AAA20326915           0                                0   \n",
       "AAA31604840           0                                3   \n",
       "\n",
       "             Cash loan (non-earmarked) 2  \\\n",
       "uid                                        \n",
       "AAA09044550                            1   \n",
       "AAA10545297                            2   \n",
       "AAA14112888                            1   \n",
       "AAA20326915                            0   \n",
       "AAA31604840                            1   \n",
       "\n",
       "             Loan for working capital replenishment 2  Consumer credit 2  \\\n",
       "uid                                                                        \n",
       "AAA09044550                                         0                  1   \n",
       "AAA10545297                                         0                  2   \n",
       "AAA14112888                                         2                  2   \n",
       "AAA20326915                                         0                  0   \n",
       "AAA31604840                                         0                  2   \n",
       "\n",
       "             TARGET  \n",
       "uid                  \n",
       "AAA09044550       0  \n",
       "AAA10545297       0  \n",
       "AAA14112888       0  \n",
       "AAA20326915       0  \n",
       "AAA31604840       0  \n",
       "\n",
       "[5 rows x 38 columns]"
      ]
     },
     "execution_count": 35,
     "metadata": {},
     "output_type": "execute_result"
    }
   ],
   "source": [
    "dataset_train.head()"
   ]
  },
  {
   "cell_type": "code",
   "execution_count": 36,
   "id": "51566b84",
   "metadata": {},
   "outputs": [],
   "source": [
    "n = len(dataset_train)\n",
    "X_train = dataset_train.iloc[:int(0.7*n),:-1].values\n",
    "X_cv = dataset_train.iloc[int(0.7*n):int(0.85*n),:-1].values\n",
    "X_test = dataset_train.iloc[int(0.85*n):,:-1].values\n",
    "y_train = dataset_train.iloc[:int(0.7*n),-1].values\n",
    "y_cv = dataset_train.iloc[int(0.7*n):int(0.85*n),-1].values\n",
    "y_test = dataset_train.iloc[int(0.85*n):,-1].values"
   ]
  },
  {
   "cell_type": "code",
   "execution_count": 37,
   "id": "0c28c345",
   "metadata": {},
   "outputs": [
    {
     "data": {
      "text/plain": [
       "(182968, 37)"
      ]
     },
     "execution_count": 37,
     "metadata": {},
     "output_type": "execute_result"
    }
   ],
   "source": [
    "X_train.shape"
   ]
  },
  {
   "cell_type": "code",
   "execution_count": 38,
   "id": "51578955",
   "metadata": {},
   "outputs": [],
   "source": [
    "scaler = StandardScaler()\n",
    "X_train = scaler.fit_transform(X_train)\n",
    "X_cv = scaler.transform(X_cv)\n",
    "X_test = scaler.transform(X_cv)"
   ]
  },
  {
   "cell_type": "markdown",
   "id": "46967038",
   "metadata": {},
   "source": [
    "# 6 Building Machine Learning Models"
   ]
  },
  {
   "cell_type": "code",
   "execution_count": 39,
   "id": "679373af",
   "metadata": {},
   "outputs": [
    {
     "data": {
      "image/png": "[encoded data removed]",
      "text/plain": [
       "<Figure size 640x480 with 1 Axes>"
      ]
     },
     "metadata": {},
     "output_type": "display_data"
    }
   ],
   "source": [
    "alpha = [10**i for i in range(-4,1)]\n",
    "cv_roc_auc_score = []\n",
    "\n",
    "for i in alpha:\n",
    "    clf = SGDClassifier(alpha = i, class_weight = 'balanced', loss = 'log_loss')\n",
    "    clf.fit(X_train,y_train)\n",
    "    sig_clf = CalibratedClassifierCV(clf)\n",
    "    sig_clf.fit(X_train, y_train)\n",
    "    y_pred = sig_clf.predict_proba(X_cv)\n",
    "    cv_roc_auc_score.append(roc_auc_score(y_cv, y_pred[:,1]))\n",
    "\n",
    "plt.plot(alpha, cv_roc_auc_score)\n",
    "plt.xlabel('Alpha Value')\n",
    "plt.ylabel('ROC AUC Score')\n",
    "plt.show()"
   ]
  },
  {
   "cell_type": "code",
   "execution_count": 40,
   "id": "349d975d",
   "metadata": {},
   "outputs": [],
   "source": [
    "best_alpha = alpha[np.argmax(cv_roc_auc_score)]\n",
    "clf_lr = SGDClassifier(loss = 'log_loss', alpha = best_alpha, class_weight = 'balanced')\n",
    "clf_lr.fit(X_train, y_train)\n",
    "sig_clf_lr = CalibratedClassifierCV(clf_lr)\n",
    "sig_clf_lr.fit(X_train, y_train)\n",
    "roc_auc_score_lr = roc_auc_score(y_cv, sig_clf_lr.predict_proba(X_cv)[:,1])"
   ]
  },
  {
   "cell_type": "code",
   "execution_count": 41,
   "id": "44d6baa7",
   "metadata": {},
   "outputs": [
    {
     "data": {
      "image/png": "[encoded data removed]",
      "text/plain": [
       "<Figure size 640x480 with 1 Axes>"
      ]
     },
     "metadata": {},
     "output_type": "display_data"
    }
   ],
   "source": [
    "alpha = [10**i for i in range(-4,1)]\n",
    "cv_roc_auc_score = []\n",
    "\n",
    "for i in alpha:\n",
    "    clf = SGDClassifier(alpha = i, class_weight = 'balanced', loss = 'hinge')\n",
    "    clf.fit(X_train,y_train)\n",
    "    sig_clf = CalibratedClassifierCV(clf)\n",
    "    sig_clf.fit(X_train, y_train)\n",
    "    y_pred = sig_clf.predict_proba(X_cv)\n",
    "    cv_roc_auc_score.append(roc_auc_score(y_cv, y_pred[:,1]))\n",
    "\n",
    "plt.plot(alpha, cv_roc_auc_score)\n",
    "plt.xlabel('Alpha Value')\n",
    "plt.ylabel('ROC AUC Score')\n",
    "plt.show()"
   ]
  },
  {
   "cell_type": "code",
   "execution_count": 42,
   "id": "da2a6cf3",
   "metadata": {},
   "outputs": [],
   "source": [
    "best_alpha = alpha[np.argmax(cv_roc_auc_score)]\n",
    "clf_svc = SGDClassifier(alpha = best_alpha, class_weight = 'balanced', loss = 'hinge')\n",
    "clf_svc.fit(X_train, y_train)\n",
    "sig_clf_svc = CalibratedClassifierCV(clf_svc)\n",
    "sig_clf_svc.fit(X_train, y_train)\n",
    "roc_auc_score_svc = roc_auc_score(y_cv, sig_clf_svc.predict_proba(X_cv)[:,1])"
   ]
  },
  {
   "cell_type": "code",
   "execution_count": 64,
   "id": "ed450150",
   "metadata": {},
   "outputs": [
    {
     "data": {
      "image/png": "[encoded data removed]",
      "text/plain": [
       "<Figure size 640x480 with 1 Axes>"
      ]
     },
     "metadata": {},
     "output_type": "display_data"
    }
   ],
   "source": [
    "alpha = [20, 40, 60, 80]\n",
    "cv_roc_auc_score = []\n",
    "for i in alpha:\n",
    "    clf = RandomForestClassifier(max_depth = i, class_weight = 'balanced')\n",
    "    clf.fit(X_train,y_train)\n",
    "    sig_clf = CalibratedClassifierCV(clf)\n",
    "    sig_clf.fit(X_train, y_train)\n",
    "    y_pred = sig_clf.predict_proba(X_cv)\n",
    "    cv_roc_auc_score.append(roc_auc_score(y_cv, y_pred[:,1]))\n",
    "\n",
    "plt.plot(alpha, cv_roc_auc_score)\n",
    "plt.xlabel('Alpha Value')\n",
    "plt.ylabel('ROC AUC Score')\n",
    "plt.show()"
   ]
  },
  {
   "cell_type": "code",
   "execution_count": 43,
   "id": "1073aa36",
   "metadata": {},
   "outputs": [],
   "source": [
    "best_alpha = alpha[np.argmax(cv_roc_auc_score)]\n",
    "clf_rf = RandomForestClassifier(max_depth = best_alpha,class_weight = 'balanced')\n",
    "clf_rf.fit(X_train, y_train)\n",
    "sig_clf_rf = CalibratedClassifierCV(clf_rf)\n",
    "sig_clf_rf.fit(X_train, y_train)\n",
    "roc_auc_score_rf = roc_auc_score(y_cv,sig_clf_rf.predict_proba(X_cv)[:,1]),"
   ]
  },
  {
   "cell_type": "code",
   "execution_count": 51,
   "id": "6edaeb11",
   "metadata": {},
   "outputs": [
    {
     "data": {
      "image/png": "[encoded data removed]",
      "text/plain": [
       "<Figure size 640x480 with 1 Axes>"
      ]
     },
     "metadata": {},
     "output_type": "display_data"
    }
   ],
   "source": [
    "alpha = [0.0001,0.001,0.01,0.1,1,10]\n",
    "cv_roc_auc_score = []\n",
    "for i in alpha:\n",
    "    lr = LogisticRegression(C=i)\n",
    "    sclf = StackingClassifier(classifiers = [sig_clf_rf, sig_clf_lr, sig_clf_svc],meta_classifier = lr, use_probas = True)\n",
    "    sclf.fit(X_train, y_train)\n",
    "    y_pred = sclf.predict_proba(X_cv)\n",
    "    cv_roc_auc_score.append(roc_auc_score(y_cv, y_pred[:,1]))\n",
    "\n",
    "plt.plot(alpha, cv_roc_auc_score)\n",
    "plt.xlabel('Alpha Value')\n",
    "plt.ylabel('ROC AUC Score')\n",
    "plt.show()"
   ]
  },
  {
   "cell_type": "code",
   "execution_count": 46,
   "id": "58a005ba",
   "metadata": {},
   "outputs": [],
   "source": [
    "best_alpha = alpha[np.argmax(cv_roc_auc_score)]\n",
    "lr = LogisticRegression(C=best_alpha)\n",
    "sclf = StackingClassifier(classifiers = [sig_clf_rf, sig_clf_lr, sig_clf_svc], meta_classifier = lr, use_probas = True)\n",
    "sclf.fit(X_train, y_train)\n",
    "roc_auc_score_sclf = roc_auc_score(y_cv,sclf.predict_proba(X_cv)[:,1])"
   ]
  },
  {
   "cell_type": "code",
   "execution_count": null,
   "id": "84ecae6b",
   "metadata": {},
   "outputs": [],
   "source": [
    "vclf = VotingClassifier(estimators=[('lr', sig_clf_lr), ('svc', sig_clf_svc), ('rf', sig_clf_rf)], voting='soft')\n",
    "vclf.fit(X_train, y_train)\n",
    "y_pred = vclf.predict(X_cv)\n",
    "roc_auc_score_vclf = roc_auc_score(y_cv,vclf.predict_proba(X_cv)[:,-1])"
   ]
  },
  {
   "cell_type": "code",
   "execution_count": null,
   "id": "f355b1fc",
   "metadata": {},
   "outputs": [],
   "source": [
    "xgbclf = XGBClassifier()\n",
    "xgbclf.fit(X_train, y_train)\n",
    "y_pred = xgbclf.predict(X_cv)\n",
    "roc_auc_score_xgbclf = roc_auc_score(y_cv,xgbclf.predict_proba(X_cv)[:,1])"
   ]
  },
  {
   "cell_type": "code",
   "execution_count": null,
   "id": "28c1b9c5",
   "metadata": {},
   "outputs": [],
   "source": [
    "print(roc_auc_score_lr, roc_auc_score_svc, roc_auc_score_rf, roc_auc_score_sclf, roc_auc_score_vclf, roc_auc_score_xgbclf)"
   ]
  },
  {
   "cell_type": "code",
   "execution_count": null,
   "id": "a5e44ec1",
   "metadata": {},
   "outputs": [],
   "source": [
    "accounts_data_test = pd.read_json('new_test/accounts_data_test.json').sort_values('open_date')\n",
    "enquiry_data_test = pd.read_json('new_test/enquiry_data_test.json').sort_values('enquiry_date')\n",
    "test_flag = pd.read_csv('new_test/test_flag.csv')\n",
    "accounts_data_test['open_date'] = pd.to_datetime(accounts_data_test['open_date'])\n",
    "accounts_data_test['closed_date'] = pd.to_datetime(accounts_data_test['closed_date'])\n",
    "enquiry_data_test['enquiry_date'] = pd.to_datetime(enquiry_data_test['enquiry_date'])"
   ]
  },
  {
   "cell_type": "code",
   "execution_count": null,
   "id": "2d278704",
   "metadata": {},
   "outputs": [],
   "source": [
    "accounts_data_test['n_days'] = accounts_data_test.apply(n_days, axis=1)\n",
    "\n",
    "# we add the following field to check if an applicant has outstanding loans because it would be helpful\n",
    "accounts_data_test.loc[accounts_data_test['closed_date'].isnull(),'n_loans'] = 1\n",
    "accounts_data_test.loc[~accounts_data_test['closed_date'].isnull(),'n_loans'] = 0"
   ]
  },
  {
   "cell_type": "code",
   "execution_count": null,
   "id": "e3fabef0",
   "metadata": {},
   "outputs": [],
   "source": [
    "dataset_test = accounts_data_test.groupby('uid')[['loan_amount','amount_overdue','n_days','n_loans']].sum()\n",
    "dataset_test = pd.concat([dataset_test, enquiry_data_test.groupby('uid')['enquiry_amt'].sum()],axis=1)"
   ]
  },
  {
   "cell_type": "code",
   "execution_count": null,
   "id": "ac1b2585",
   "metadata": {},
   "outputs": [],
   "source": [
    "df = accounts_data_test.groupby('uid')['credit_type'].value_counts()\n",
    "dataset_test['Consumer credit 1'] = 0\n",
    "dataset_test['Credit card 1'] = 0\n",
    "dataset_test['Car loan 1'] = 0\n",
    "dataset_test['Mortgage 1'] = 0\n",
    "dataset_test['Microloan 1'] = 0\n",
    "dataset_test['Loan for business development 1'] = 0\n",
    "dataset_test['Another type of loan 1'] = 0\n",
    "dataset_test['Unknown type of loan 1'] = 0\n",
    "dataset_test['Loan for working capital replenishment 1'] = 0\n",
    "dataset_test['Real estate loan 1'] = 0\n",
    "dataset_test['Cash loan (non-earmarked) 1'] = 0\n",
    "dataset_test['Loan for the purchase of equipment 1'] = 0\n",
    "dataset_test['Loan for purchase of shares (margin lending) 1'] = 0 \n",
    "dataset_test['Interbank credit 1'] = 0 \n",
    "dataset_test['Mobile operator loan 1'] = 0 \n",
    "\n",
    "count = []\n",
    "for elem in df:\n",
    "    count.append(elem)\n",
    "lst = []\n",
    "for index, count in zip(df.index, count):\n",
    "    lst.append([index[0], index[1], count])\n",
    "for elem in lst:\n",
    "    dataset_test.loc[elem[0],f'{elem[1]} 1'] = elem[2]"
   ]
  },
  {
   "cell_type": "code",
   "execution_count": null,
   "id": "ef9a807f",
   "metadata": {},
   "outputs": [],
   "source": [
    "df = enquiry_data_test.groupby('uid')['enquiry_type'].value_counts()\n",
    "dataset_test['Cash loans 2'] = 0\n",
    "dataset_test['Revolving loans 2'] = 0\n",
    "dataset_test['Mobile operator loan 2'] = 0\n",
    "dataset_test['Real estate loan 2'] = 0\n",
    "dataset_test['Microloan 2'] = 0\n",
    "dataset_test['Unknown type of loan 2'] = 0\n",
    "dataset_test['Loan for purchase of shares (margin lending) 2'] = 0\n",
    "dataset_test['Mortgage 2'] = 0\n",
    "dataset_test['Credit card 2'] = 0\n",
    "dataset_test['Another type of loan 2'] = 0\n",
    "dataset_test['Loan for the purchase of equipment 2'] = 0\n",
    "dataset_test['Interbank credit 2'] = 0\n",
    "dataset_test['Car loan 2'] = 0\n",
    "dataset_test['Loan for business development 2'] = 0\n",
    "dataset_test['Cash loan (non-earmarked) 2'] = 0\n",
    "dataset_test['Loan for working capital replenishment 2'] = 0\n",
    "dataset_test['Consumer credit 2'] = 0\n",
    "\n",
    "count = []\n",
    "for elem in df:\n",
    "    count.append(elem)\n",
    "lst = []\n",
    "for index, count in zip(df.index, count):\n",
    "    lst.append([index[0], index[1], count])\n",
    "for elem in lst:\n",
    "    dataset_test.loc[elem[0],f'{elem[1]} 2'] = elem[2]"
   ]
  },
  {
   "cell_type": "code",
   "execution_count": null,
   "id": "018860a1",
   "metadata": {},
   "outputs": [],
   "source": [
    "dataset_test = pd.concat([dataset_test, test_flag[['uid']].set_index('uid')], axis=1)"
   ]
  },
  {
   "cell_type": "code",
   "execution_count": null,
   "id": "b31b4b76",
   "metadata": {},
   "outputs": [],
   "source": [
    "dataset_test"
   ]
  },
  {
   "cell_type": "code",
   "execution_count": null,
   "id": "1c91df84",
   "metadata": {},
   "outputs": [],
   "source": [
    "dataset_test.loc[dataset_test['loan_amount'].isnull(),['loan_amount','amount_overdue','n_days','n_loans']] = 0"
   ]
  },
  {
   "cell_type": "code",
   "execution_count": null,
   "id": "535c89be",
   "metadata": {},
   "outputs": [],
   "source": [
    "X_test = scaler.transform(dataset_test.values)"
   ]
  },
  {
   "cell_type": "code",
   "execution_count": null,
   "id": "622e7b4b",
   "metadata": {},
   "outputs": [],
   "source": [
    "y_pred = vclf.predict_proba(X_test)"
   ]
  },
  {
   "cell_type": "code",
   "execution_count": 103,
   "id": "14a31d49",
   "metadata": {},
   "outputs": [],
   "source": [
    "df = pd.DataFrame({'uid':dataset_test.index, 'pred':y_pred[:,1]})\n",
    "df.to_csv('final_submission/final_submission_Krishna_Sumanth_Mannala.csv', index=False)"
   ]
  },
  {
   "cell_type": "code",
   "execution_count": null,
   "id": "9edcedda",
   "metadata": {},
   "outputs": [],
   "source": []
  }
 ],
 "metadata": {
  "kernelspec": {
   "display_name": "Python 3 (ipykernel)",
   "language": "python",
   "name": "python3"
  },
  "language_info": {
   "codemirror_mode": {
    "name": "ipython",
    "version": 3
   },
   "file_extension": ".py",
   "mimetype": "text/x-python",
   "name": "python",
   "nbconvert_exporter": "python",
   "pygments_lexer": "ipython3",
   "version": "3.11.5"
  }
 },
 "nbformat": 4,
 "nbformat_minor": 5
}
